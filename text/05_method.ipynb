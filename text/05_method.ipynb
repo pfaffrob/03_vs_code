{
  "cells": [
    {
      "cell_type": "markdown",
      "metadata": {},
      "source": [
        "Lorem ipsum dolor sit amet, consectetur adipiscing elit. Donec at ante ut lectus tempor viverra vitae vel leo. Fusce maximus libero eu semper pharetra. Quisque tristique, mauris vel consectetur lobortis, metus ligula gravida metus, id commodo turpis turpis nec dolor (@tbl-mytable3).\n",
        "\n",
        "![Example Picture 2](placeholder.jpg){ width=50% align=\"center\" }\n",
        "\n",
        "For more information, refer to the literature review (@chapmanCompoundingImpactDeforestation2020; @descalsHighresolutionGlobalMap2021).\n"
      ],
      "id": "8c60a7ae"
    },
    {
      "cell_type": "code",
      "metadata": {},
      "source": [
        "#| echo: false\n",
        "#| label: tbl-mytable3\n",
        "#| tbl-cap: mycaption\n",
        "\n",
        "import pandas as pd\n",
        "from IPython.display import Markdown\n",
        "from tabulate import tabulate\n",
        "\n",
        "# Load the mtcars dataset from the CSV file\n",
        "df = pd.read_csv(\"mtcars.csv\")\n",
        "\n",
        "# Select columns for the table\n",
        "table = df[[\"model\", \"mpg\", \"cyl\"]].head(4).values.tolist()\n",
        "\n",
        "# Generate markdown table\n",
        "table_md = tabulate(\n",
        "    table,\n",
        "    headers=[\"Car\", \"MPG\", \"Cylinders\"],\n",
        "    tablefmt=\"pipe\"\n",
        ")\n",
        "\n",
        "# Display markdown table\n",
        "Markdown(table_md)"
      ],
      "id": "tbl-mytable3",
      "execution_count": null,
      "outputs": []
    },
    {
      "cell_type": "markdown",
      "metadata": {},
      "source": [
        "Lorem ipsum dolor sit amet, consectetur adipiscing elit. Donec at ante ut lectus tempor viverra vitae vel leo. Fusce maximus libero eu semper pharetra. Quisque tristique, mauris vel consectetur lobortis, metus ligula gravida metus, id commodo turpis turpis nec dolor.\n",
        "\n",
        "![Example Picture 4](placeholder.jpg){ width=50% fig-align=\"left\" }\n",
        "\n",
        "Lorem ipsum dolor sit amet, consectetur adipiscing elit. Curabitur nec ipsum sit amet arcu blandit vulputate at sed felis. Nam auctor tortor in risus aliquet, id interdum elit vestibulum. Nulla aliquam faucibus purus, non laoreet mi sollicitudin id. Aliquam volutpat, ex eu pharetra gravida, lacus nisl dictum ipsum, ac aliquam metus urna id leo. In tristique risus ac finibus fringilla. Nullam vulputate enim id consequat faucibus. Duis pellentesque metus ac fermentum auctor. Nam semper tincidunt purus, nec volutpat mauris feugiat ut. Phasellus consectetur, leo vitae facilisis dignissim, purus justo volutpat felis, vel efficitur est orci sed mi.\n",
        "\n",
        "Phasellus a nisi lacus. Nullam congue ultrices ex, sed lacinia massa mattis sit amet. Nam fermentum, turpis ut congue viverra, nisl nunc ultricies mauris, nec consequat turpis metus eget ligula. Aliquam erat volutpat. Vivamus tempus nisl in est ultrices varius. Nunc nec purus dolor. Sed a ullamcorper ex. Pellentesque habitant morbi tristique senectus et netus et malesuada fames ac turpis egestas.\n",
        "\n",
        "Lorem ipsum dolor sit amet, consectetur adipiscing elit. Curabitur nec ipsum sit amet arcu blandit vulputate at sed felis. Nam auctor tortor in risus aliquet, id interdum elit vestibulum. Nulla aliquam faucibus purus, non laoreet mi sollicitudin id. Aliquam volutpat, ex eu pharetra gravida, lacus nisl dictum ipsum, ac aliquam metus urna id leo. In tristique risus ac finibus fringilla. Nullam vulputate enim id consequat faucibus. Duis pellentesque metus ac fermentum auctor. Nam semper tincidunt purus, nec volutpat mauris feugiat ut. Phasellus consectetur, leo vitae facilisis dignissim, purus justo volutpat felis, vel efficitur est orci sed mi.\n",
        "\n",
        "Phasellus a nisi lacus. Nullam congue ultrices ex, sed lacinia massa mattis sit amet. Nam fermentum, turpis ut congue viverra, nisl nunc ultricies mauris, nec consequat turpis metus eget ligula. Aliquam erat volutpat. Vivamus tempus nisl in est ultrices varius. Nunc nec purus dolor. Sed a ullamcorper ex. Pellentesque habitant morbi tristique senectus et netus et malesuada fames ac turpis egestas.\n"
      ],
      "id": "124b0c38"
    }
  ],
  "metadata": {
    "kernelspec": {
      "name": "python3",
      "language": "python",
      "display_name": "Python 3 (ipykernel)"
    }
  },
  "nbformat": 4,
  "nbformat_minor": 5
}