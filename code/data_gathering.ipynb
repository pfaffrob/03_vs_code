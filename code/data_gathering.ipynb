{
  "cells": [
    {
      "cell_type": "code",
      "metadata": {},
      "source": [
        "import os\n",
        "import geopandas as gpd\n",
        "import rasterio\n",
        "from rasterio import features\n",
        "from rasterio.merge import merge\n",
        "from rasterio.errors import RasterioIOError\n",
        "from rasterio.features import geometry_mask\n",
        "from rasterio.mask import mask\n",
        "from rasterio.warp import calculate_default_transform, reproject, Resampling\n",
        "from shapely.geometry import shape, mapping, box\n",
        "import numpy as np\n",
        "import matplotlib.pyplot as plt\n",
        "import osmnx as ox\n",
        "\n",
        "#from my_functions import merge_tiff_files, change_raster_values #this would be the ideal solution, but doesn't work yet"
      ],
      "id": "ae919f77",
      "execution_count": null,
      "outputs": []
    },
    {
      "cell_type": "markdown",
      "metadata": {},
      "source": [
        "# functions\n",
        "\n",
        "## combine tiff's\n"
      ],
      "id": "0ac1f2b7"
    },
    {
      "cell_type": "code",
      "metadata": {},
      "source": [
        "def merge_tiff_files(tif_files, output_file):\n",
        "    src_files_to_mosaic = []\n",
        "    \n",
        "    for file in tif_files:\n",
        "        try:\n",
        "            src = rasterio.open(file)\n",
        "            src_files_to_mosaic.append(src)\n",
        "        except RasterioIOError:\n",
        "            print(f\"Skipping non-existing file: {file}\")\n",
        "    \n",
        "    mosaic, out_trans = merge(src_files_to_mosaic)\n",
        "    \n",
        "    out_meta = src.meta.copy()\n",
        "    out_meta.update({\"driver\": \"GTiff\",\n",
        "                     \"height\": mosaic.shape[1],\n",
        "                     \"width\": mosaic.shape[2],\n",
        "                     \"transform\": out_trans,\n",
        "                     \"compress\": 'lzw'})\n",
        "    \n",
        "    with rasterio.open(output_file, \"w\", **out_meta) as dest:\n",
        "        dest.write(mosaic)\n",
        "    \n",
        "    for src in src_files_to_mosaic:\n",
        "        src.close()"
      ],
      "id": "0bf27ff0",
      "execution_count": null,
      "outputs": []
    },
    {
      "cell_type": "markdown",
      "metadata": {},
      "source": [
        "## change raster values (reclassify has more options)\n"
      ],
      "id": "0525fdd8"
    },
    {
      "cell_type": "code",
      "metadata": {},
      "source": [
        "def change_raster_values(input_file, output_file, values, new_value):\n",
        "    # Open the input TIFF file and read the first band as a NumPy array\n",
        "    with rasterio.open(input_file) as src:\n",
        "        raster = src.read(1)\n",
        "\n",
        "        # Convert values to a list if a single integer is provided\n",
        "        if not isinstance(values, list):\n",
        "            values = [values]\n",
        "\n",
        "        # Change pixel values in the raster array\n",
        "        mask = np.isin(raster, values)\n",
        "        raster = np.where(mask, new_value, raster)\n",
        "\n",
        "        # Copy the metadata from the source dataset\n",
        "        meta = src.meta.copy()\n",
        "\n",
        "        # Update the metadata for the modified dataset\n",
        "        meta.update(dtype=rasterio.int32, nodata=new_value, compress='lzw')\n",
        "\n",
        "        # Save the modified raster array as a new TIFF file\n",
        "        with rasterio.open(output_file, \"w\", **meta) as dest:\n",
        "            dest.write(raster.astype(rasterio.int32), 1)"
      ],
      "id": "198e3450",
      "execution_count": null,
      "outputs": []
    },
    {
      "cell_type": "markdown",
      "metadata": {},
      "source": [
        "## change values outside mask to chosen value\n"
      ],
      "id": "03483573"
    },
    {
      "cell_type": "code",
      "metadata": {},
      "source": [
        "def change_values_outside_mask(input_file, output_file, mask, new_value = 0):\n",
        "    # Load the input TIF file\n",
        "    with rasterio.open(input_file) as src:\n",
        "        # Read the input TIF file as an array\n",
        "        data = src.read(1)\n",
        "\n",
        "        # Extract the first geometry from the GeoDataFrame\n",
        "        mask_geometry = shape(mask.iloc[0]['geometry'])\n",
        "\n",
        "        # Create a mask using the input TIF file's georeferencing and the GDF mask\n",
        "        mask_array = geometry_mask([mapping(mask_geometry)], src.shape, transform=src.transform, invert=True)\n",
        "\n",
        "        # Replace values outside the mask with the new value\n",
        "        data = np.where(mask_array, data, new_value)\n",
        "\n",
        "        # Update the metadata and write the modified array to the output TIF file\n",
        "        meta = src.meta\n",
        "        meta.update(compress='lzw')\n",
        "        with rasterio.open(output_file, 'w', **meta) as dst:\n",
        "            dst.write(data, 1)"
      ],
      "id": "8b032194",
      "execution_count": null,
      "outputs": []
    },
    {
      "cell_type": "markdown",
      "metadata": {},
      "source": [
        "## clip to bbox\n"
      ],
      "id": "7c4ec407"
    },
    {
      "cell_type": "code",
      "metadata": {},
      "source": [
        "def clip_tif_to_bbox(tif_path, gdf_boundary, output_path):\n",
        "    # Open the TIFF file\n",
        "    tif = rasterio.open(tif_path)\n",
        "\n",
        "    # Extract the bounding box coordinates\n",
        "    bounds = gdf_boundary.geometry.total_bounds\n",
        "    bbox = box(*bounds)\n",
        "\n",
        "    # Clip the TIFF file to the bounding box\n",
        "    clipped, transform = mask(tif, [bbox], crop=True)\n",
        "\n",
        "    # Update the metadata of the clipped TIFF\n",
        "    clipped_meta = tif.meta.copy()\n",
        "    clipped_meta.update({\n",
        "        \"height\": clipped.shape[1],\n",
        "        \"width\": clipped.shape[2],\n",
        "        \"transform\": transform,\n",
        "        \"compress\": 'lzw'\n",
        "    })\n",
        "\n",
        "    # Save the clipped TIFF to the output path\n",
        "    with rasterio.open(output_path, \"w\", **clipped_meta) as output:\n",
        "        output.write(clipped)"
      ],
      "id": "f7406a75",
      "execution_count": null,
      "outputs": []
    },
    {
      "cell_type": "code",
      "metadata": {},
      "source": [
        "def reproject_raster(epsg, input_file_path, output_file_path):\n",
        "    #open source raster\n",
        "    srcRst = rasterio.open(input_file_path)\n",
        "\n",
        "    dstCrs = {'init': epsg}\n",
        "\n",
        "    #calculate transform array and shape of reprojected raster\n",
        "    transform, width, height = calculate_default_transform(\n",
        "            srcRst.crs, dstCrs, srcRst.width, srcRst.height, *srcRst.bounds)\n",
        "\n",
        "    #working of the meta for the destination raster\n",
        "    kwargs = srcRst.meta.copy()\n",
        "    kwargs.update({\n",
        "            'crs': dstCrs,\n",
        "            'transform': transform,\n",
        "            'width': width,\n",
        "            'height': height,\n",
        "            'compress': 'lzw'\n",
        "        })\n",
        "\n",
        "    #open destination raster\n",
        "    dstRst = rasterio.open(output_file_path, 'w', **kwargs)\n",
        "\n",
        "    #reproject and save raster band data\n",
        "    for i in range(1, srcRst.count + 1):\n",
        "        reproject(\n",
        "            source=rasterio.band(srcRst, i),\n",
        "            destination=rasterio.band(dstRst, i),\n",
        "            #src_transform=srcRst.transform,\n",
        "            src_crs=srcRst.crs,\n",
        "            #dst_transform=transform,\n",
        "            dst_crs=dstCrs,\n",
        "            resampling=Resampling.nearest)\n",
        "    #close destination raster\n",
        "    dstRst.close()"
      ],
      "id": "5e0704f5",
      "execution_count": null,
      "outputs": []
    },
    {
      "cell_type": "code",
      "metadata": {},
      "source": [
        "def reclassify(input_file, output_file, reclassify_values):\n",
        "    # Open the input TIFF file and read the first band as a NumPy array\n",
        "    with rasterio.open(input_file) as src:\n",
        "        raster = src.read(1)\n",
        "\n",
        "        # Create a copy of the raster array to store the reclassified values\n",
        "        reclassified_raster = np.copy(raster)\n",
        "\n",
        "        # Loop through the reclassification dictionary and update the pixel values\n",
        "        for new_value, values in reclassify_values.items():\n",
        "            if isinstance(values, int):\n",
        "                values = [values]\n",
        "            mask = np.isin(raster, values)\n",
        "            reclassified_raster[mask] = new_value\n",
        "\n",
        "        # Copy the metadata from the source dataset\n",
        "        meta = src.meta.copy()\n",
        "\n",
        "        # Update the metadata for the modified dataset\n",
        "        meta.update(dtype=rasterio.int32, compress='lzw')\n",
        "\n",
        "        # Save the modified raster array as a new TIFF file\n",
        "        with rasterio.open(output_file, \"w\", **meta) as dest:\n",
        "            dest.write(reclassified_raster.astype(rasterio.int32), 1)"
      ],
      "id": "39e5b65e",
      "execution_count": null,
      "outputs": []
    },
    {
      "cell_type": "markdown",
      "metadata": {},
      "source": [
        "# import extent\n"
      ],
      "id": "2553717c"
    },
    {
      "cell_type": "code",
      "metadata": {},
      "source": [
        "crs = \"EPSG:4326\"\n",
        "gdf_boundary = ox.geocode_to_gdf(\"borneo\").dropna(axis=1, how=\"any\").to_crs(crs)\n",
        "# Export the GeoDataFrame as a shapefile\n",
        "gdf_boundary.to_file(\"../../07_data_prepared/boundary/borneo_boundary.shp\")"
      ],
      "id": "1461ce8c",
      "execution_count": null,
      "outputs": []
    },
    {
      "cell_type": "markdown",
      "metadata": {},
      "source": [
        "# prepare oil palm data (2019)\n"
      ],
      "id": "a9620ade"
    },
    {
      "cell_type": "code",
      "metadata": {},
      "source": [
        "directory = '../../06_data'\n",
        "\n",
        "oil_palm_2019 = gpd.read_file(os.path.join(directory, f\"vegetation/oil_palm/High_resolution_global_industrial_and_smallholder_oil_palm_map_for_2019/grid/grid.shp\"))\n",
        "\n",
        "# Reproject oil_palm_2019 to match the CRS of gdf_boundary\n",
        "oil_palm_2019 = oil_palm_2019.to_crs(gdf_boundary.crs)\n",
        "\n",
        "oil_palm_2019_borneo = oil_palm_2019.clip(gdf_boundary)\n",
        "\n",
        "# Extract the 'ID' column values as a list\n",
        "id_values = oil_palm_2019_borneo['ID'].tolist()\n",
        "\n",
        "# Convert the values to integers and then to strings\n",
        "id_values = [str(int(value)) for value in id_values]\n",
        "\n",
        "# List to store the TIFF file paths\n",
        "tif_files = []\n",
        "reclassified_tif_files = []\n",
        "\n",
        "# Construct the TIFF file paths and reclassify the individual TIFF files\n",
        "\n",
        "for value in id_values:\n",
        "    tif_file = os.path.join(directory, f\"vegetation/oil_palm/High_resolution_global_industrial_and_smallholder_oil_palm_map_for_2019/oil_palm_map/L2_2019b_{value}.tif\")\n",
        "    if os.path.exists(tif_file):\n",
        "        tif_files.append(tif_file)\n",
        "        path = os.path.join(directory, f\"vegetation/oil_palm/High_resolution_global_industrial_and_smallholder_oil_palm_map_for_2019/oil_palm_reclasssified_borneo/L2_2019b_{value}.tif\")\n",
        "        reclassify_values = {0: 3}\n",
        "        reclassify(tif_file, path, reclassify_values)\n",
        "        clip_tif_to_bbox(path, gdf_boundary, path)\n",
        "        change_values_outside_mask(path, path, gdf_boundary, 0)\n",
        "        reproject_raster('EPSG:23846', path, os.path.join(directory, f\"vegetation/oil_palm/High_resolution_global_industrial_and_smallholder_oil_palm_map_for_2019/oil_palm_reclasssified_borneo/utm_L2_2019b_{value}.tif\"))\n",
        "        reclassified_tif_files.append(os.path.join(directory, f\"vegetation/oil_palm/High_resolution_global_industrial_and_smallholder_oil_palm_map_for_2019/oil_palm_reclasssified_borneo/utm_L2_2019b_{value}.tif\"))\n",
        "    else:\n",
        "        print(f\"File not found: {tif_file}\")\n",
        "\n",
        "\n",
        "# Merge the processed TIFF files\n",
        "merge_tiff_files(reclassified_tif_files, '../../07_data_prepared/oil_palm/utm_oil_palm_2019_borneo.tif')\n"
      ],
      "id": "1c526698",
      "execution_count": null,
      "outputs": []
    },
    {
      "cell_type": "markdown",
      "metadata": {},
      "source": [
        "# prepare oil palm detection data\n"
      ],
      "id": "ae6299d9"
    },
    {
      "cell_type": "code",
      "metadata": {},
      "source": [
        "tif_files = ['../../06_data/vegetation/oil_palm/year_of_detection/op_extent_age_N.tif', '../../06_data/vegetation/oil_palm/year_of_detection/op_extent_age_S.tif']\n",
        "\n",
        "merge_tiff_files(tif_files, '../../07_data_prepared/oil_palm/detection_year.tif')\n",
        "\n",
        "clip_tif_to_bbox('../../07_data_prepared/oil_palm/detection_year.tif', gdf_boundary, '../../07_data_prepared/oil_palm/detection_year.tif')\n",
        "\n",
        "change_values_outside_mask('../../07_data_prepared/oil_palm/detection_year.tif', '../../07_data_prepared/oil_palm/detection_year.tif', gdf_boundary, 0)\n",
        "\n",
        "# data information: The data values range from 0 to 37 where 0 is no data and subsequent numbers run through until 2017, the last year of our analysis. A value of 4 corresponds to the year 1984, the first year oil palm was detected and 37 corresponds to 2017. Values 1 to 3 are not present.\n",
        "# --> therefore every yea\n",
        "\n",
        "reclassify_values = {2000: list(range(1, 21)),\n",
        "                     2001: 21,\n",
        "                     2002: 22,\n",
        "                     2003: 23,\n",
        "                     2004: 24,\n",
        "                     2005: 25,\n",
        "                     2006: 26,\n",
        "                     2007: 27,\n",
        "                     2008: 28,\n",
        "                     2009: 29,\n",
        "                     2010: 30,\n",
        "                     2011: 31,\n",
        "                     2012: 32,\n",
        "                     2013: 33,\n",
        "                     2014: 34,\n",
        "                     2015: 35,\n",
        "                     2016: 36,\n",
        "                     2017: 37}\n",
        "reclassify('../../07_data_prepared/oil_palm/detection_year.tif', '../../07_data_prepared/oil_palm/detection_year_2000_2017.tif', reclassify_values)\n",
        "\n",
        "\n",
        "\n",
        "# reproject to epsg:23846\n",
        "reproject_raster('EPSG:23846', '../../07_data_prepared/oil_palm/detection_year_2000_2017.tif', '../../07_data_prepared/oil_palm/utm_detection_year_2000_2017.tif')"
      ],
      "id": "9d801416",
      "execution_count": null,
      "outputs": []
    },
    {
      "cell_type": "markdown",
      "metadata": {},
      "source": [
        "# prepare global forest watch data\n",
        "## deforestation\n"
      ],
      "id": "f881c4d9"
    },
    {
      "cell_type": "code",
      "metadata": {},
      "source": [
        "tif_files = ['../../06_data/deforestation/global_forest_watch/Hansen_GFC_2021_v1_9_lossyear_00N_100E.tif', '../../06_data/deforestation/global_forest_watch/Hansen_GFC_2021_v1_9_lossyear_00N_110E.tif', '../../06_data/deforestation/global_forest_watch/Hansen_GFC_2021_v1_9_lossyear_10N_100E.tif', '../../06_data/deforestation/global_forest_watch/Hansen_GFC_2021_v1_9_lossyear_10N_110E.tif']\n",
        "\n",
        "merge_tiff_files(tif_files, '../../07_data_prepared/deforestation/gfw_lossyear_2000_2022_borneo.tif')\n",
        "\n",
        "clip_tif_to_bbox('../../07_data_prepared/deforestation/gfw_lossear_2000_2022_borneo.tif', gdf_boundary, '../../07_data_prepared/deforestation/gfw_2000_2022_borneo.tif')\n",
        "\n",
        "change_values_outside_mask('../../07_data_prepared/deforestation/gfw_lossyear_2000_2022_borneo.tif', '../../07_data_prepared/deforestation/gfw_2000_2022_borneo.tif', gdf_boundary, 0)\n",
        "\n",
        "# reproject to epsg:23846\n",
        "reproject_raster('EPSG:23846', '../../07_data_prepared/deforestation/gfw_lossyear_2000_2022_borneo.tif', '../../07_data_prepared/deforestation/utm_gfw_2000_2022_borneo.tif')"
      ],
      "id": "edecd63e",
      "execution_count": null,
      "outputs": []
    },
    {
      "cell_type": "markdown",
      "metadata": {},
      "source": [
        "## forest cover 2000\n"
      ],
      "id": "215b7e9e"
    },
    {
      "cell_type": "code",
      "metadata": {},
      "source": [
        "tif_files = ['../../06_data/deforestation/global_forest_watch/Hansen_GFC_2021_v1_9_treecover2000_00N_100E.tif', '../../06_data/deforestation/global_forest_watch/Hansen_GFC_2021_v1_9_treecover2000_00N_110E.tif', '../../06_data/deforestation/global_forest_watch/Hansen_GFC_2021_v1_9_treecover2000_10N_100E.tif', '../../06_data/deforestation/global_forest_watch/Hansen_GFC_2021_v1_9_treecover2000_10N_110E.tif']\n",
        "\n",
        "merge_tiff_files(tif_files, '../../07_data_prepared/deforestation/gfw_fcover_2000_borneo.tif')\n",
        "\n",
        "clip_tif_to_bbox('../../07_data_prepared/deforestation/gfw_fcover_2000_borneo.tif', gdf_boundary, '../../07_data_prepared/deforestation/gfw_fcover_2000_borneo.tif')\n",
        "\n",
        "change_values_outside_mask('../../07_data_prepared/deforestation/gfw_fcover_2000_borneo.tif', '../../07_data_prepared/deforestation/gfw_fcover_2000_borneo.tif', gdf_boundary, 0)\n",
        "\n",
        "# reproject to epsg:23846\n",
        "reproject_raster('EPSG:23846', '../../07_data_prepared/deforestation/gfw_fcover_2000_borneo.tif', '../../07_data_prepared/deforestation/utm_gfw_fcover_2000_borneo.tif')"
      ],
      "id": "b3949432",
      "execution_count": null,
      "outputs": []
    },
    {
      "cell_type": "markdown",
      "metadata": {},
      "source": [
        "## forest gain \n"
      ],
      "id": "2fe5f869"
    },
    {
      "cell_type": "code",
      "metadata": {},
      "source": [
        "tif_files = ['../../06_data/deforestation/global_forest_watch/Hansen_GFC_2021_v1_9_gain_00N_100E.tif', '../../06_data/deforestation/global_forest_watch/Hansen_GFC_2021_v1_9_gain_00N_110E.tif', '../../06_data/deforestation/global_forest_watch/Hansen_GFC_2021_v1_9_gain_10N_100E.tif', '../../06_data/deforestation/global_forest_watch/Hansen_GFC_2021_v1_9_gain_10N_110E.tif']\n",
        "\n",
        "merge_tiff_files(tif_files, '../../07_data_prepared/deforestation/gfw_gain_2000_2012_borneo.tif')\n",
        "\n",
        "clip_tif_to_bbox('../../07_data_prepared/deforestation/gfw_gain_2000_2012_borneo.tif', gdf_boundary, '../../07_data_prepared/deforestation/gfw_gain_2000_2012_borneo.tif')\n",
        "\n",
        "change_values_outside_mask('../../07_data_prepared/deforestation/gfw_gain_2000_2012_borneo.tif', '../../07_data_prepared/deforestation/gfw_gain_2000_2012_borneo.tif', gdf_boundary, 0)\n",
        "\n",
        "# reproject to epsg:23846\n",
        "reproject_raster('EPSG:23846', '../../07_data_prepared/deforestation/gfw_gain_2000_2012_borneo.tif', '../../07_data_prepared/deforestation/utm_gfw_gain_2000_2012_borneo_test.tif')"
      ],
      "id": "bff7cdd9",
      "execution_count": null,
      "outputs": []
    },
    {
      "cell_type": "markdown",
      "metadata": {},
      "source": [
        "# prepare forest fire data\n"
      ],
      "id": "33c8cc7b"
    },
    {
      "cell_type": "code",
      "metadata": {},
      "source": [
        "clip_tif_to_bbox('../../06_data/deforestation/forest_fires/fire_forest_loss_2001-22_annual.tiff', gdf_boundary, '../../07_data_prepared/deforestation/forest_fires.tif')\n",
        "\n",
        "change_values_outside_mask('../../07_data_prepared/deforestation/forest_fires.tif', '../../07_data_prepared/deforestation/forest_fires.tif', gdf_boundary, 0)\n",
        "\n",
        "# reproject to epsg:23846\n",
        "reproject_raster('EPSG:23846', '../../07_data_prepared/deforestation/forest_fires.tif', '../../07_data_prepared/deforestation/utm_forest_fires.tif')"
      ],
      "id": "8e7f320a",
      "execution_count": null,
      "outputs": []
    },
    {
      "cell_type": "markdown",
      "metadata": {},
      "source": [
        "# primary forest\n"
      ],
      "id": "999e6c79"
    },
    {
      "cell_type": "code",
      "metadata": {},
      "source": [
        "clip_tif_to_bbox('../../06_data/deforestation/primary_forest/Asia_2001_primary.tif', gdf_boundary, '../../07_data_prepared/deforestation/primary_forest_2001.tif')\n",
        "\n",
        "change_values_outside_mask('../../07_data_prepared/deforestation/primary_forest_2001.tif', '../../07_data_prepared/deforestation/primary_forest_2001.tif', gdf_boundary, 0)\n",
        "\n",
        "# reproject to epsg:23846\n",
        "reproject_raster('EPSG:23846', '../../07_data_prepared/deforestation/primary_forest_2001.tif', '../../07_data_prepared/deforestation/utm_primary_forest_2001.tif')"
      ],
      "id": "3d2a3295",
      "execution_count": null,
      "outputs": []
    },
    {
      "cell_type": "markdown",
      "metadata": {},
      "source": [
        "# clip protected areas to boundary\n"
      ],
      "id": "70670614"
    },
    {
      "cell_type": "code",
      "metadata": {},
      "source": [
        "shapefile_path = \"../../06_data/protected_areas/WDPA_WDOECM_Apr2023_Public_AS_shp/WDPA_WDOECM_Apr2023_Public_AS_shp_0/WDPA_WDOECM_Apr2023_Public_AS_shp-polygons.shp\"\n",
        "shapefile_gdf = gpd.read_file(shapefile_path)\n",
        "\n",
        "gdf_boundary = ox.geocode_to_gdf(\"borneo\").dropna(axis=1, how=\"any\")\n",
        "\n",
        "clipped_gdf = gpd.clip(shapefile_gdf, gdf_boundary.geometry)\n",
        "\n",
        "clipped_gdf = clipped_gdf.to_crs(\"EPSG:23846\")\n",
        "\n",
        "output_path = \"../../07_data_prepared/protected_areas/protected_areas_borneo.shp\"\n",
        "clipped_gdf.to_file(output_path)"
      ],
      "id": "b913c444",
      "execution_count": null,
      "outputs": []
    },
    {
      "cell_type": "markdown",
      "metadata": {},
      "source": [
        "# RSPO concessions\n"
      ],
      "id": "5038674a"
    },
    {
      "cell_type": "code",
      "metadata": {},
      "source": [
        "shapefile_path = \"../../06_data/RSPO/RSPO_Concessions_Versions6_20Jan2023.shp\"\n",
        "shapefile_gdf = gpd.read_file(shapefile_path)\n",
        "shapefile_gdf = shapefile_gdf.to_crs(epsg=4326)\n",
        "\n",
        "gdf_boundary = ox.geocode_to_gdf(\"borneo\").dropna(axis=1, how=\"any\")\n",
        "\n",
        "clipped_gdf = gpd.clip(shapefile_gdf, gdf_boundary.geometry)\n",
        "\n",
        "clipped_gdf = clipped_gdf.to_crs(\"EPSG:23846\")\n",
        "\n",
        "output_path = \"../../07_data_prepared/RSPO/utm_RSPO_2023.shp\"\n",
        "clipped_gdf.to_file(output_path)"
      ],
      "id": "ed27b0b9",
      "execution_count": null,
      "outputs": []
    },
    {
      "cell_type": "markdown",
      "metadata": {},
      "source": [
        "# prepare cropland data\n"
      ],
      "id": "57a6b8ab"
    },
    {
      "cell_type": "code",
      "metadata": {},
      "source": [
        "import os\n",
        "import glob\n",
        "\n",
        "# Save the current working directory\n",
        "script_dir = os.path.abspath(os.path.dirname(__file__))\n",
        "\n",
        "# Set the cropland directory\n",
        "cropland_dir = os.path.join(script_dir, '../../06_data/vegetation/cropland')\n",
        "\n",
        "# Get a list of all TIFF files in the cropland directory\n",
        "tif_files = [os.path.abspath(file) for file in glob.glob(os.path.join(cropland_dir, '*.tif'))]\n",
        "\n",
        "# Set the output directory for the clipped TIFF files\n",
        "clipped_cropland_dir = os.path.join(script_dir, '../../06_data/vegetation/cropland/clipped_borneo')\n",
        "os.makedirs(clipped_cropland_dir, exist_ok=True)\n",
        "\n",
        "# Clip the TIFF files\n",
        "for file in tif_files:\n",
        "    # Construct the output file name\n",
        "    output_file = os.path.basename(file).replace('Global', 'borneo')\n",
        "\n",
        "    # Set the output file path\n",
        "    output_path = os.path.join(clipped_cropland_dir, output_file)\n",
        "\n",
        "    # Clip the TIFF file\n",
        "    clip_tif_to_bbox(file, gdf_boundary, output_path)\n",
        "\n",
        "tif_files_2003 = [os.path.join(clipped_cropland_dir,  'borneo_cropland_NE_2003.tif'), os.path.join(clipped_cropland_dir,  'borneo_cropland_SE_2003.tif')]\n",
        "tif_files_2007 = [os.path.join(clipped_cropland_dir,  'borneo_cropland_NE_2007.tif'), os.path.join(clipped_cropland_dir,  'borneo_cropland_SE_2007.tif')]\n",
        "tif_files_2011 = [os.path.join(clipped_cropland_dir,  'borneo_cropland_NE_2011.tif'), os.path.join(clipped_cropland_dir,  'borneo_cropland_SE_2011.tif')]\n",
        "tif_files_2015 = [os.path.join(clipped_cropland_dir,  'borneo_cropland_NE_2015.tif'), os.path.join(clipped_cropland_dir,  'borneo_cropland_SE_2015.tif')]\n",
        "tif_files_2019 = [os.path.join(clipped_cropland_dir,  'borneo_cropland_NE_2019.tif'), os.path.join(clipped_cropland_dir,  'borneo_cropland_SE_2019.tif')]\n",
        "\n",
        "print(tif_files_2003)\n",
        "# Set the output directory for the merged TIFF files\n",
        "merge_output_dir = os.path.join(script_dir, '../../07_data_prepared/cropland')\n",
        "os.makedirs(merge_output_dir, exist_ok=True)\n",
        "\n",
        "merge_tiff_files(tif_files_2003, os.path.join(merge_output_dir,f'borneo_cropland_2003.tif'))\n",
        "merge_tiff_files(tif_files_2007, os.path.join(merge_output_dir,f'borneo_cropland_2007.tif'))\n",
        "merge_tiff_files(tif_files_2011, os.path.join(merge_output_dir,f'borneo_cropland_2011.tif'))\n",
        "merge_tiff_files(tif_files_2015, os.path.join(merge_output_dir,f'borneo_cropland_2015.tif'))\n",
        "merge_tiff_files(tif_files_2019, os.path.join(merge_output_dir,f'borneo_cropland_2019.tif'))\n",
        "\n",
        "change_values_outside_mask(os.path.join(merge_output_dir,f'borneo_cropland_2003.tif'), os.path.join(merge_output_dir,f'borneo_cropland_2003.tif'), mask=gdf_boundary)\n",
        "change_values_outside_mask(os.path.join(merge_output_dir,f'borneo_cropland_2007.tif'), os.path.join(merge_output_dir,f'borneo_cropland_2007.tif'), mask=gdf_boundary)\n",
        "change_values_outside_mask(os.path.join(merge_output_dir,f'borneo_cropland_2011.tif'), os.path.join(merge_output_dir,f'borneo_cropland_2011.tif'), mask=gdf_boundary)\n",
        "change_values_outside_mask(os.path.join(merge_output_dir,f'borneo_cropland_2015.tif'), os.path.join(merge_output_dir,f'borneo_cropland_2015.tif'), mask=gdf_boundary)\n",
        "change_values_outside_mask(os.path.join(merge_output_dir,f'borneo_cropland_2019.tif'), os.path.join(merge_output_dir,f'borneo_cropland_2019.tif'), mask=gdf_boundary)\n",
        "\n",
        "reproject_raster(\"EPSG:23846\", os.path.join(merge_output_dir,f'borneo_cropland_2003.tif'), os.path.join(merge_output_dir,f'utm_borneo_cropland_2003.tif'))\n",
        "reproject_raster(\"EPSG:23846\", os.path.join(merge_output_dir,f'borneo_cropland_2007.tif'), os.path.join(merge_output_dir,f'utm_borneo_cropland_2007.tif'))\n",
        "reproject_raster(\"EPSG:23846\", os.path.join(merge_output_dir,f'borneo_cropland_2011.tif'), os.path.join(merge_output_dir,f'utm_borneo_cropland_2011.tif'))\n",
        "reproject_raster(\"EPSG:23846\", os.path.join(merge_output_dir,f'borneo_cropland_2015.tif'), os.path.join(merge_output_dir,f'utm_borneo_cropland_2015.tif'))\n",
        "reproject_raster(\"EPSG:23846\", os.path.join(merge_output_dir,f'borneo_cropland_2019.tif'), os.path.join(merge_output_dir,f'utm_borneo_cropland_2019.tif'))\n"
      ],
      "id": "45d1e5bb",
      "execution_count": null,
      "outputs": []
    },
    {
      "cell_type": "markdown",
      "metadata": {},
      "source": [
        "# prepare infrastructure data\n"
      ],
      "id": "775bad11"
    },
    {
      "cell_type": "code",
      "metadata": {},
      "source": [
        "import os\n",
        "import glob\n",
        "\n",
        "# Save the current working directory\n",
        "script_dir = os.path.abspath(os.path.dirname(__file__))\n",
        "\n",
        "# Set the cropland directory\n",
        "infra_dir = os.path.join(script_dir, '../../06_data/infrastructure/built_up_areas_2000_2020')\n",
        "\n",
        "# Get a list of all TIFF files in the cropland directory\n",
        "tif_files = [os.path.abspath(file) for file in glob.glob(os.path.join(infra_dir, '*.tif'))]\n",
        "\n",
        "# Set the output directory for the clipped TIFF files\n",
        "clipped__dir = os.path.join(script_dir, '../../06_data/infrastructure/built_up_areas_2000_2020/borneo_clipped')\n",
        "os.makedirs(infra_dir, exist_ok=True)\n",
        "\n",
        "# Clip the TIFF files\n",
        "for file in tif_files:\n",
        "    # Construct the output file name\n",
        "    output_file = os.path.basename(file).replace('Change', 'Borneo_Change')\n",
        "\n",
        "    # Set the output file path\n",
        "    output_path = os.path.join(clipped__dir, output_file)\n",
        "\n",
        "    # Clip the TIFF file\n",
        "    clip_tif_to_bbox(file, gdf_boundary, output_path)\n",
        "\n",
        "tif_files = [os.path.abspath(file) for file in glob.glob(os.path.join(clipped__dir, '*.tif'))]\n",
        "\n",
        "# Set the output directory for the merged TIFF files\n",
        "merge_output_dir = os.path.join(script_dir, '../../07_data_prepared/infrastructure')\n",
        "os.makedirs(merge_output_dir, exist_ok=True)\n",
        "\n",
        "merge_tiff_files(tif_files, os.path.join(merge_output_dir,f'build_up_area.tif'))\n",
        "\n",
        "\n",
        "change_values_outside_mask(os.path.join(merge_output_dir,f'build_up_area.tif'), os.path.join(merge_output_dir,f'build_up_area.tif'), mask=gdf_boundary)\n",
        "\n",
        "\n",
        "reproject_raster(\"EPSG:23846\", os.path.join(merge_output_dir,f'build_up_area.tif'), os.path.join(merge_output_dir,f'utm_build_up_area.tif'))\n"
      ],
      "id": "d45a5638",
      "execution_count": null,
      "outputs": []
    }
  ],
  "metadata": {
    "kernelspec": {
      "name": "python3",
      "language": "python",
      "display_name": "Python 3 (ipykernel)"
    }
  },
  "nbformat": 4,
  "nbformat_minor": 5
}