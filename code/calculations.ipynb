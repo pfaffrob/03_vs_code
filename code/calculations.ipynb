{
  "cells": [
    {
      "cell_type": "code",
      "metadata": {},
      "source": [
        "from my_functions import *"
      ],
      "id": "ddc1d8a2",
      "execution_count": null,
      "outputs": []
    },
    {
      "cell_type": "markdown",
      "metadata": {},
      "source": [
        "# General Forest\n",
        "\n",
        "## reclassify to get forest extent\n"
      ],
      "id": "870d25e6"
    },
    {
      "cell_type": "code",
      "metadata": {},
      "source": [
        "input_tif = '../../07_data_prepared/deforestation/LAEA_gfw_fcover_2000_borneo.tif'\n",
        "output_tif ='../../07_data_prepared/deforestation/LAEA_forest_cover_year_2000.tif'\n",
        "\n",
        "reclassify_values = {0: range(1,75),\n",
        "                     1: range(75,101)}\n",
        "\n",
        "reclassify(input_tif, output_tif, reclassify_values)"
      ],
      "id": "08fa3705",
      "execution_count": null,
      "outputs": []
    },
    {
      "cell_type": "markdown",
      "metadata": {},
      "source": [
        "# add primary forest\n"
      ],
      "id": "222d587e"
    },
    {
      "cell_type": "code",
      "metadata": {},
      "source": [
        "file_1 = '../../07_data_prepared/deforestation/LAEA_forest_cover_year_2000.tif'\n",
        "file_2 = '../../07_data_prepared/deforestation/LAEA_primary_forest_2001.tif'\n",
        "output = '../../07_data_prepared/deforestation/LAEA_forest_cover_year_2000_and_primary.tif'\n",
        "\n",
        "combine_geotiffs(file_1, file_2, output)"
      ],
      "id": "092d97bc",
      "execution_count": null,
      "outputs": []
    },
    {
      "cell_type": "code",
      "metadata": {},
      "source": [
        "## Set variables for the title and paths\n",
        "title = 'Borneo forest cover in 2000'\n",
        "input_tif = '../../07_data_prepared/deforestation/LAEA_forest_cover_year_2000_and_primary.tif'\n",
        "output_csv = 'results/tables/forest_cover_year_2000.csv'\n",
        "output_png = 'results/plots/forest_cover_year_2000.png'\n",
        "\n",
        "# Call the function with your variables\n",
        "process_raster_to_csv_and_plot(title, input_tif, output_csv, output_png)"
      ],
      "id": "8feb308c",
      "execution_count": null,
      "outputs": []
    },
    {
      "cell_type": "markdown",
      "metadata": {},
      "source": [
        "# Primary Forest\n"
      ],
      "id": "7a1f5b06"
    },
    {
      "cell_type": "code",
      "metadata": {},
      "source": [
        "## Set variables for the title and paths\n",
        "title = 'Primary forest in 2001'\n",
        "input_tif = '../../07_data_prepared/deforestation/LAEA_primary_forest_2001.tif'\n",
        "output_csv = 'results/tables/primary_forest_2001.csv'\n",
        "output_png = 'results/plots/primary_forest_2001.png'\n",
        "\n",
        "# Call the function with your variables\n",
        "process_raster_to_csv_and_plot(title, input_tif, output_csv, output_png)"
      ],
      "id": "3a8d4e9b",
      "execution_count": null,
      "outputs": []
    },
    {
      "cell_type": "markdown",
      "metadata": {},
      "source": [
        "# 1 analysis forest loss\n"
      ],
      "id": "f9df8b70"
    },
    {
      "cell_type": "code",
      "metadata": {},
      "source": [
        "## Set variables for the title and paths\n",
        "title = 'Borneo Total Forest Loss 2001 - 2021'\n",
        "input_tif = '../../07_data_prepared/deforestation/LAEA_gfw_2000_2022_borneo.tif'\n",
        "output_csv = 'test.csv'\n",
        "output_png = 'test.png'\n",
        "\n",
        "# Call the function with your variables\n",
        "process_raster_to_csv_and_plot(title, input_tif, output_csv, output_png)"
      ],
      "id": "cb51d592",
      "execution_count": null,
      "outputs": []
    },
    {
      "cell_type": "markdown",
      "metadata": {},
      "source": [
        "## 1.1 How much forest was lost yearly? (total)\n"
      ],
      "id": "29a37c23"
    },
    {
      "cell_type": "code",
      "metadata": {},
      "source": [
        "## Set variables for the title and paths\n",
        "title = 'Borneo Total Forest Loss 2001 - 2021'\n",
        "input_tif = '../../07_data_prepared/deforestation/LAEA_gfw_2000_2022_borneo.tif'\n",
        "output_csv = 'results/tables/gfc_deforestation_total_yearly.csv'\n",
        "output_png = 'results/plots/borneo_total_forest_loss.png'\n",
        "\n",
        "# Call the function with your variables\n",
        "process_raster_to_csv_and_plot(title, input_tif, output_csv, output_png)"
      ],
      "id": "14cce4b5",
      "execution_count": null,
      "outputs": []
    },
    {
      "cell_type": "markdown",
      "metadata": {},
      "source": [
        "## 1.2 How much forest was lost yearly to forest fires?\n"
      ],
      "id": "9c6c3d6d"
    },
    {
      "cell_type": "code",
      "metadata": {},
      "source": [
        "## Set variables for the title and paths\n",
        "title = 'Borneo Total Forest Loss (Forest Fires) 2001 - 2021'\n",
        "input_tif = '../../07_data_prepared/deforestation/LAEA_forest_fires.tif'\n",
        "output_csv = 'results/tables/forest_fires_loss_total_yearly.csv'\n",
        "output_png = 'results/plots/forest_fires_loss_total_yearly.png'\n",
        "\n",
        "# Call the function with your variables\n",
        "process_raster_to_csv_and_plot(title, input_tif, output_csv, output_png, show_sum=True)"
      ],
      "id": "7dbb7511",
      "execution_count": null,
      "outputs": []
    },
    {
      "cell_type": "markdown",
      "metadata": {},
      "source": [
        "## 1.3 How much forest gain (area) occured after forest fires (2001 - 2012)?\n",
        "\n",
        "##### --> cannot be answered as there are no time stamps available for forest gain.\n",
        "\n",
        "## 1.4 How much much forest was lost in protected areas yearly?\n",
        "\n",
        "### 1.4.1 mask deforestation with protected areas\n"
      ],
      "id": "7264534c"
    },
    {
      "cell_type": "code",
      "metadata": {},
      "source": [
        "input_tif = '../../07_data_prepared/deforestation/LAEA_gfw_2000_2022_borneo.tif'\n",
        "mask_shp = '../../07_data_prepared/protected_areas/LAEA_protected_areas_borneo.shp'\n",
        "output_tif = '../../08_data_processed/combined/deforestation_protected_areas.tif'\n",
        "\n",
        "mask_tif_with_shapefile(input_tif, mask_shp, output_tif)"
      ],
      "id": "39e77b58",
      "execution_count": null,
      "outputs": []
    },
    {
      "cell_type": "markdown",
      "metadata": {},
      "source": [
        "### 1.4.2 calculate\n"
      ],
      "id": "4916c943"
    },
    {
      "cell_type": "code",
      "metadata": {},
      "source": [
        "## Set variables for the title and paths\n",
        "title = 'Forest loss in protected areas'\n",
        "input_tif = '../../08_data_processed/combined/deforestation_protected_areas.tif'\n",
        "output_csv = 'results/tables/deforestation_protected_areas_yearly.csv'\n",
        "output_png = 'results/plots/deforestation_protected_areas_yearly.png'\n",
        "\n",
        "# Call the function with your variables\n",
        "process_raster_to_csv_and_plot(title, input_tif, output_csv, output_png, show_sum=True)"
      ],
      "id": "c134595a",
      "execution_count": null,
      "outputs": []
    },
    {
      "cell_type": "markdown",
      "metadata": {},
      "source": [
        "## 1.5\tHow much forest was lost in protected areas excluding forest fires?\n",
        "\n",
        "### 1.5.1 mask deforestation with forest fires\n"
      ],
      "id": "4cedde27"
    },
    {
      "cell_type": "code",
      "metadata": {},
      "source": [
        "input_tif = '../../07_data_prepared/deforestation/LAEA_gfw_2000_2022_borneo.tif'\n",
        "mask_tif = '../../07_data_prepared/deforestation/LAEA_forest_fires.tif'\n",
        "output_tif = '../../08_data_processed/combined/deforestation_no_forest_fires.tif'\n",
        "mask_values = list(range(1, 22))\n",
        "\n",
        "mask_tif_select_value(input_tif, mask_tif, output_tif, mask_values, inside = True)"
      ],
      "id": "6167f106",
      "execution_count": null,
      "outputs": []
    },
    {
      "cell_type": "markdown",
      "metadata": {},
      "source": [
        "### 1.5.2 mask deforestation excluding forest fires with protected areas\n"
      ],
      "id": "15117e07"
    },
    {
      "cell_type": "code",
      "metadata": {},
      "source": [
        "input_tif = '../../08_data_processed/combined/deforestation_no_forest_fires.tif'\n",
        "mask_shp = '../../07_data_prepared/protected_areas/LAEA_protected_areas_borneo.shp'\n",
        "output_tif = '../../08_data_processed/combined/deforestation_no_forest_fires_protected_areas.tif'\n",
        "\n",
        "mask_tif_with_shapefile(input_tif, mask_shp, output_tif)"
      ],
      "id": "dd8f6ef9",
      "execution_count": null,
      "outputs": []
    },
    {
      "cell_type": "markdown",
      "metadata": {},
      "source": [
        "### 1.5.3 calculate\n"
      ],
      "id": "055f2094"
    },
    {
      "cell_type": "code",
      "metadata": {},
      "source": [
        "## Set variables for the title and paths\n",
        "title = 'Forest loss in protected areas excluding forest fires'\n",
        "input_tif = '../../08_data_processed/combined/deforestation_no_forest_fires_protected_areas.tif'\n",
        "output_csv = 'results/tables/deforestation_no_forest_fires_protected_areas_yearly.csv'\n",
        "output_png = 'results/plots/deforestation_no_forest_fires_protected_areas_yearly.png'\n",
        "\n",
        "# Call the function with your variables\n",
        "process_raster_to_csv_and_plot(title, input_tif, output_csv, output_png, show_sum=True)"
      ],
      "id": "44f37b02",
      "execution_count": null,
      "outputs": []
    },
    {
      "cell_type": "markdown",
      "metadata": {},
      "source": [
        "## 2.1 How much primary forest was lost yearly?\n",
        "### 2.1.1 mask forest loss with primary forest\n"
      ],
      "id": "c9fcabfd"
    },
    {
      "cell_type": "code",
      "metadata": {},
      "source": [
        "input_tif = '../../07_data_prepared/deforestation/LAEA_gfw_2000_2022_borneo.tif'\n",
        "mask_tif = '../../07_data_prepared/deforestation/LAEA_primary_forest_2001.tif'\n",
        "output_tif = '../../08_data_processed/deforestation/deforestation_primary_forest.tif'\n",
        "\n",
        "mask_tif_select_nodata(input_tif, mask_tif, output_tif)"
      ],
      "id": "35c68b15",
      "execution_count": null,
      "outputs": []
    },
    {
      "cell_type": "markdown",
      "metadata": {},
      "source": [
        "### 2.1.2 Calculate how much primary forest was lost yearly\n"
      ],
      "id": "2306ab3a"
    },
    {
      "cell_type": "code",
      "metadata": {},
      "source": [
        "## Set variables for the title and paths\n",
        "title = 'Borneo Total Primary Forest Loss 2001 - 2021'\n",
        "input_tif = '../../08_data_processed/deforestation/deforestation_primary_forest.tif'\n",
        "output_csv = 'results/tables/primary_forest_loss_total_yearly.csv'\n",
        "output_png = 'results/plots/primary_loss_total_yearly.png'\n",
        "\n",
        "# Call the function with your variables\n",
        "process_raster_to_csv_and_plot(title, input_tif, output_csv, output_png, show_sum=True)"
      ],
      "id": "01edd0af",
      "execution_count": null,
      "outputs": []
    },
    {
      "cell_type": "markdown",
      "metadata": {},
      "source": [
        "## 2.2 How much primary forest area was lost due to forest fires yearly and in total?\n"
      ],
      "id": "7be16a91"
    },
    {
      "cell_type": "code",
      "metadata": {},
      "source": [
        "input_tif = '../../07_data_prepared/deforestation/LAEA_forest_fires.tif'\n",
        "mask_tif = '../../07_data_prepared/deforestation/LAEA_primary_forest_2001.tif'\n",
        "output_tif = '../../08_data_processed/deforestation/primary_forest_forest_fires.tif'\n",
        "\n",
        "mask_tif_select_nodata(input_tif, mask_tif, output_tif)"
      ],
      "id": "67a628d6",
      "execution_count": null,
      "outputs": []
    },
    {
      "cell_type": "markdown",
      "metadata": {},
      "source": [
        "### 2.2.2 calculate\n"
      ],
      "id": "f9c5d01c"
    },
    {
      "cell_type": "code",
      "metadata": {},
      "source": [
        "## Set variables for the title and paths\n",
        "title = 'Borneo Total Primary Forest Loss to forest fires 2001 - 2021'\n",
        "input_tif = '../../08_data_processed/deforestation/primary_forest_forest_fires.tif'\n",
        "output_csv = 'results/tables/primary_forest_loss_forest_fires_total_yearly.csv'\n",
        "output_png = 'results/plots/primary_loss_forest_fires_total_yearly.png'\n",
        "\n",
        "# Call the function with your variables\n",
        "process_raster_to_csv_and_plot(title, input_tif, output_csv, output_png, show_sum=True)"
      ],
      "id": "fafbea2c",
      "execution_count": null,
      "outputs": []
    },
    {
      "cell_type": "markdown",
      "metadata": {},
      "source": [
        "## 2.3 How much much primary forest was lost in protected areas yearly?\n",
        "\n",
        "### 2.3.1 mask deforestation with protected areas\n"
      ],
      "id": "cc01e274"
    },
    {
      "cell_type": "code",
      "metadata": {},
      "source": [
        "input_tif = '../../08_data_processed/deforestation/deforestation_primary_forest.tif'\n",
        "mask_shp = '../../07_data_prepared/protected_areas/LAEA_protected_areas_borneo.shp'\n",
        "output_tif = '../../08_data_processed/combined/deforestation_primary_forest_protected_areas.tif'\n",
        "\n",
        "mask_tif_with_shapefile(input_tif, mask_shp, output_tif)"
      ],
      "id": "250ad34a",
      "execution_count": null,
      "outputs": []
    },
    {
      "cell_type": "markdown",
      "metadata": {},
      "source": [
        "### 2.3.2 calculate\n"
      ],
      "id": "7e9838a2"
    },
    {
      "cell_type": "code",
      "metadata": {},
      "source": [
        "## Set variables for the title and paths\n",
        "title = 'Primary forest loss in protected areas'\n",
        "input_tif = '../../08_data_processed/combined/deforestation_primary_forest_protected_areas.tif'\n",
        "output_csv = 'results/tables/deforestation_primary_forest_protected_areas.csv'\n",
        "output_png = 'results/plots/deforestation_primary_forest_protected_areas.png'\n",
        "\n",
        "# Call the function with your variables\n",
        "process_raster_to_csv_and_plot(title, input_tif, output_csv, output_png, show_sum=True)"
      ],
      "id": "c835fc0e",
      "execution_count": null,
      "outputs": []
    },
    {
      "cell_type": "markdown",
      "metadata": {},
      "source": [
        "## 2.4\tHow much forest was lost in protected areas excluding forest fires?\n",
        "\n",
        "### 2.4.1 mask primary deforestation with forest fires\n"
      ],
      "id": "3b9d6fc6"
    },
    {
      "cell_type": "code",
      "metadata": {},
      "source": [
        "input_tif = '../../08_data_processed/deforestation/deforestation_primary_forest.tif'\n",
        "mask_tif = '../../07_data_prepared/deforestation/LAEA_forest_fires.tif'\n",
        "output_tif = '../../08_data_processed/combined/deforestation_primary_forest_no_forest_fires.tif'\n",
        "mask_values = list(range(1, 22))\n",
        "\n",
        "mask_tif_select_value(input_tif, mask_tif, output_tif, mask_values, inside = True)"
      ],
      "id": "f9344464",
      "execution_count": null,
      "outputs": []
    },
    {
      "cell_type": "markdown",
      "metadata": {},
      "source": [
        "### 2.4.2 mask deforestation excluding forest fires with protected areas\n"
      ],
      "id": "526af718"
    },
    {
      "cell_type": "code",
      "metadata": {},
      "source": [
        "input_tif = '../../08_data_processed/combined/deforestation_primary_forest_no_forest_fires.tif'\n",
        "mask_shp = '../../07_data_prepared/protected_areas/LAEA_protected_areas_borneo.shp'\n",
        "output_tif = '../../08_data_processed/combined/deforestation_primary_forest_no_forest_fires_protected_areas.tif'\n",
        "\n",
        "mask_tif_with_shapefile(input_tif, mask_shp, output_tif)"
      ],
      "id": "ceff304c",
      "execution_count": null,
      "outputs": []
    },
    {
      "cell_type": "markdown",
      "metadata": {},
      "source": [
        "### 2.4.3 calculate\n"
      ],
      "id": "908c5933"
    },
    {
      "cell_type": "code",
      "metadata": {},
      "source": [
        "## Set variables for the title and paths\n",
        "title = 'Primary forest loss in protected areas excluding forest fires'\n",
        "input_tif = '../../08_data_processed/combined/deforestation_primary_forest_no_forest_fires_protected_areas.tif'\n",
        "output_csv = 'results/tables/deforestation_primary_forest_no_forest_fires_protected_areas.csv'\n",
        "output_png = 'results/plots/deforestation_primary_forest_no_forest_fires_protected_areas.png'\n",
        "\n",
        "# Call the function with your variables\n",
        "process_raster_to_csv_and_plot(title, input_tif, output_csv, output_png, show_sum=True)"
      ],
      "id": "a7da07cc",
      "execution_count": null,
      "outputs": []
    },
    {
      "cell_type": "markdown",
      "metadata": {},
      "source": [
        "# 3 oil palm\n",
        "\n",
        "## 3.1 How much new oil palm plantations occurred yearly (2000 - 2017)?\n"
      ],
      "id": "5588f131"
    },
    {
      "cell_type": "code",
      "metadata": {},
      "source": [
        "## Set variables for the title and paths\n",
        "title = 'Borneo new oil palm plantations (2001 - 2017)'\n",
        "input_tif = '../../07_data_prepared/oil_palm/LAEA_detection_year_2000_2017.tif'\n",
        "output_csv = 'results/tables/new_oil_palm_detection_yearly.csv'\n",
        "output_png = 'results/plots/new_oil_palm_detection_yearly.png'\n",
        "\n",
        "# Call the function with your variables\n",
        "process_raster_to_csv_and_plot(title, input_tif, output_csv, output_png, show_sum = True)"
      ],
      "id": "8fe58fef",
      "execution_count": null,
      "outputs": []
    },
    {
      "cell_type": "markdown",
      "metadata": {},
      "source": [
        "## 3.2 How much new oil palm occurred on previously deforested areas? (2001 - 2017)\n",
        "\n",
        "### 3.2.1 snap raster first\n"
      ],
      "id": "7d42a1a9"
    },
    {
      "cell_type": "code",
      "metadata": {},
      "source": [
        "snap_tif = '../../07_data_prepared/deforestation/LAEA_gfw_2000_2022_borneo.tif'\n",
        "input_tif = '../../07_data_prepared/oil_palm/LAEA_detection_year_2001_2017.tif'\n",
        "output_tif = '../../07_data_prepared/oil_palm/LAEA_snap_gfw_detection_year_2001_2017.tif'\n",
        "\n",
        "\n",
        "snap_raster(input_tif, snap_tif, output_tif)"
      ],
      "id": "6b4e8a42",
      "execution_count": null,
      "outputs": []
    },
    {
      "cell_type": "markdown",
      "metadata": {},
      "source": [
        "### 3.2.2 mask\n"
      ],
      "id": "55f0828f"
    },
    {
      "cell_type": "code",
      "metadata": {},
      "source": [
        "input_tif = '../../07_data_prepared/oil_palm/LAEA_snap_gfw_detection_year_2001_2017.tif'\n",
        "mask_tif = '../../07_data_prepared/deforestation/LAEA_gfw_2000_2022_borneo.tif'\n",
        "output_tif = '../../08_data_processed/combined/new_oil_palm_after_deforestation.tif'\n",
        "\n",
        "mask_tif_larger_smaller_value(input_tif, mask_tif, output_tif, is_greater=True, nodata_value=0)"
      ],
      "id": "048ca349",
      "execution_count": null,
      "outputs": []
    },
    {
      "cell_type": "markdown",
      "metadata": {},
      "source": [
        "### 3.2.3 calculate\n"
      ],
      "id": "f131585c"
    },
    {
      "cell_type": "code",
      "metadata": {},
      "source": [
        "title = 'new palm oil plantations after deforestation (2001-2017)'\n",
        "input_tif = '../../08_data_processed/combined/new_oil_palm_after_deforestation.tif'\n",
        "output_csv = 'results/tables/new_oil_palm_after_deforestation.csv'\n",
        "output_png = 'results/plots/new_oil_palm_after_deforestation.png'\n",
        "\n",
        "process_raster_to_csv_and_plot(title, input_tif, output_csv, output_png, show_sum = True)"
      ],
      "id": "14fc14b8",
      "execution_count": null,
      "outputs": []
    },
    {
      "cell_type": "markdown",
      "metadata": {},
      "source": [
        "## 3.3\tHow much new oil palm plantation area occured yearly on areas deforested by forest fires?\n",
        "\n",
        "### 3.3.1 mask\n"
      ],
      "id": "d55b4909"
    },
    {
      "cell_type": "code",
      "metadata": {},
      "source": [
        "input_tif = '../../07_data_prepared/oil_palm/LAEA_snap_gfw_detection_year_2001_2017.tif'\n",
        "mask_tif = '../../07_data_prepared/deforestation/LAEA_forest_fires.tif'\n",
        "output_tif = '../../08_data_processed/combined/new_oil_palm_after_forest_fires.tif'\n",
        "\n",
        "mask_tif_larger_smaller_value(input_tif, mask_tif, output_tif, is_greater=True, nodata_value=0)"
      ],
      "id": "dafa537f",
      "execution_count": null,
      "outputs": []
    },
    {
      "cell_type": "markdown",
      "metadata": {},
      "source": [
        "### 3.3.2 calculate\n"
      ],
      "id": "7b6cfd96"
    },
    {
      "cell_type": "code",
      "metadata": {},
      "source": [
        "title = 'new palm oil plantations after forest fires (2001-2017)'\n",
        "input_tif = '../../08_data_processed/combined/new_oil_palm_after_forest_fires.tif'\n",
        "output_csv = 'results/tables/new_oil_palm_after_forest_fires.csv'\n",
        "output_png = 'results/plots/new_oil_palm_after_forest_fires.png'\n",
        "\n",
        "process_raster_to_csv_and_plot(title, input_tif, output_csv, output_png, show_sum = True)"
      ],
      "id": "aa0813ed",
      "execution_count": null,
      "outputs": []
    },
    {
      "cell_type": "markdown",
      "metadata": {},
      "source": [
        "## 3.4\tHow much new oil palm plantation area occured in protected ares?\n",
        "\n",
        "### 3.4.1 mask \n"
      ],
      "id": "3e0e5a84"
    },
    {
      "cell_type": "code",
      "metadata": {},
      "source": [
        "input_tif = '../../07_data_prepared/oil_palm/LAEA_detection_year_2000_2017.tif'\n",
        "mask_shp = '../../07_data_prepared/protected_areas/LAEA_protected_areas_borneo.shp'\n",
        "output_tif = '../../08_data_processed/combined/new_oil_palm_protected_areas.tif'\n",
        "\n",
        "mask_tif_with_shapefile(input_tif, mask_shp, output_tif)"
      ],
      "id": "19624a43",
      "execution_count": null,
      "outputs": []
    },
    {
      "cell_type": "markdown",
      "metadata": {},
      "source": [
        "### 3.4.2 calculate\n"
      ],
      "id": "6fca56f9"
    },
    {
      "cell_type": "code",
      "metadata": {},
      "source": [
        "title = 'new palm oil plantations in protected areas (2001-2017)'\n",
        "input_tif = '../../08_data_processed/combined/new_oil_palm_protected_areas.tif'\n",
        "output_csv = 'results/tables/new_oil_palm_protected_areas.csv'\n",
        "output_png = 'results/plots/new_oil_palm_protected_areas.png'\n",
        "\n",
        "process_raster_to_csv_and_plot(title, input_tif, output_csv, output_png, show_sum = True)"
      ],
      "id": "00a0efd5",
      "execution_count": null,
      "outputs": []
    },
    {
      "cell_type": "markdown",
      "metadata": {},
      "source": [
        "## 3.5\tHow much new oil palm plantation areo occured on non-forest area? (compared to year 2000 forest cover)\n",
        "\n",
        "### 3.5.1 mask\n"
      ],
      "id": "a37ae48e"
    },
    {
      "cell_type": "code",
      "metadata": {},
      "source": [
        "input_tif = '../../07_data_prepared/oil_palm/LAEA_snap_gfw_detection_year_2001_2017.tif'\n",
        "mask_tif = '../../07_data_prepared/deforestation/LAEA_forest_cover_year_2000_and_primary.tif'\n",
        "output_tif = '../../08_data_processed/combined/new_oil_palm_nonforest.tif'\n",
        "\n",
        "mask_values = [1]\n",
        "\n",
        "mask_tif_select_value(input_tif, mask_tif, output_tif, mask_values, inside=True)"
      ],
      "id": "94b2f57b",
      "execution_count": null,
      "outputs": []
    },
    {
      "cell_type": "markdown",
      "metadata": {},
      "source": [
        "### 3.5.2 calculate\n"
      ],
      "id": "2bdca7ef"
    },
    {
      "cell_type": "code",
      "metadata": {},
      "source": [
        "title = 'new palm oil plantations on year 2000 non foret areas  (2001-2017)'\n",
        "input_tif = '../../08_data_processed/combined/new_oil_palm_nonforest.tif'\n",
        "output_csv = 'results/tables/new_oil_palm_nonforest.csv'\n",
        "output_png = 'results/plots/new_oil_palm_nonforest.png'\n",
        "\n",
        "process_raster_to_csv_and_plot(title, input_tif, output_csv, output_png, show_sum = True)"
      ],
      "id": "791420c2",
      "execution_count": null,
      "outputs": []
    },
    {
      "cell_type": "markdown",
      "metadata": {},
      "source": [
        "## 3.6\tHow much new oil palm plantations occurred yearly on primary forest (2000 - 2017)?\n",
        "\n",
        "### 3.6.1 mask\n"
      ],
      "id": "2219f24f"
    },
    {
      "cell_type": "code",
      "metadata": {},
      "source": [
        "input_tif = '../../07_data_prepared/oil_palm/LAEA_snap_gfw_detection_year_2001_2017.tif'\n",
        "mask_tif = '../../07_data_prepared/deforestation/LAEA_primary_forest_2001.tif'\n",
        "output_tif = '../../08_data_processed/combined/new_oil_palm_primary.tif'\n",
        "\n",
        "mask_values = [1]\n",
        "\n",
        "mask_tif_select_value(input_tif, mask_tif, output_tif, mask_values, inside=True)"
      ],
      "id": "001b31a5",
      "execution_count": null,
      "outputs": []
    },
    {
      "cell_type": "markdown",
      "metadata": {},
      "source": [
        "### 3.6.2 calculate\n"
      ],
      "id": "63cf6e01"
    },
    {
      "cell_type": "code",
      "metadata": {},
      "source": [
        "title = 'new palm oil plantations on year 2000 non foret areas  (2001-2017)'\n",
        "input_tif = '../../08_data_processed/combined/new_oil_palm_primary.tif'\n",
        "output_csv = 'results/tables/new_oil_palm_primary.csv'\n",
        "output_png = 'results/plots/new_oil_palm_primary.png'\n",
        "\n",
        "process_raster_to_csv_and_plot(title, input_tif, output_csv, output_png, show_sum = True)"
      ],
      "id": "ab0318c4",
      "execution_count": null,
      "outputs": []
    },
    {
      "cell_type": "markdown",
      "metadata": {},
      "source": [
        "## 3.6\tHow much new oil palm plantation area occured on previos cropland (and other way around)?\n",
        "\n",
        "### 3.6.1 Find most important 10 crops (most area) for the coresponding year. (removed rest of crops and oil palm)\n"
      ],
      "id": "95565260"
    },
    {
      "cell_type": "code",
      "metadata": {},
      "source": [
        "spam_names = [\n",
        "    \"WHEA\",\n",
        "    \"RICE\",\n",
        "    \"MAIZ\",\n",
        "    \"BARL\",\n",
        "    \"MILL\",\n",
        "    \"SORG\",\n",
        "    \"POTA\",\n",
        "    \"CASS\",\n",
        "    \"SOYB\",\n",
        "    \"OPUL\",\n",
        "    \"SUGB\",\n",
        "    \"COTT\",\n",
        "    \"GROU\",\n",
        "    \"OOIL\",\n",
        "    \"COFF\",\n",
        "    \"RCOF\",\n",
        "    \"BANP\",\n",
        "    \"BANA\",\n",
        "    \"VEGE\"\n",
        "]\n",
        "\n",
        "# Define the root folders and the number of top rows for each year\n",
        "years = ['2000', '2005', '2010']\n",
        "root_folders = [\"../../07_data_prepared/crop_type/crops_2000/LAEA\",\n",
        "                \"../../07_data_prepared/crop_type/crops_2005/LAEA\",\n",
        "                \"../../07_data_prepared/crop_type/crops_2010/LAEA\"]\n",
        "num_top_rows = 9  # Change this to the number of top rows you want\n",
        "\n",
        "# Create a dictionary to store the data\n",
        "data = {}\n",
        "\n",
        "# Loop through the years and root folders\n",
        "for year, root_folder in zip(years, root_folders):\n",
        "    top_rows, total_top_sum = get_top_sum_tif_paths(root_folder, num_top_rows)\n",
        "    data[f'{year} paths'] = top_rows['File'].tolist()\n",
        "    data[f'{year} sums'] = top_rows['Summed_Value'].tolist()\n",
        "\n",
        "# Find the maximum length of the lists in the dictionary\n",
        "max_len = max(len(lst) for lst in data.values())\n",
        "\n",
        "# Extend all lists in the dictionary to be of length 'max_len'\n",
        "for key, value in data.items():\n",
        "    data[key] = value + [None] * (max_len - len(value))\n",
        "\n",
        "# Create the DataFrame\n",
        "df = pd.DataFrame(data)\n",
        "\n",
        "# Now, df contains the data with integer values in string format (without decimal points)\n",
        "df.to_csv('../../07_data_prepared/crop_type/top_crops.csv', index=False)\n"
      ],
      "id": "816ec562",
      "execution_count": null,
      "outputs": []
    },
    {
      "cell_type": "code",
      "metadata": {},
      "source": [
        "# Load the CSV file into a DataFrame\n",
        "df = pd.read_csv('../../07_data_prepared/crop_type/top_crops.csv')\n",
        "\n",
        "# Access just one column\n",
        "top_crops_2000 = df['2000 paths'].dropna().tolist()\n",
        "\n",
        "top_crops_2005 = df['2005 paths'].dropna().tolist()\n",
        "\n",
        "top_crops_2010 = df['2010 paths'].dropna().tolist()"
      ],
      "id": "b028d20a",
      "execution_count": null,
      "outputs": []
    },
    {
      "cell_type": "code",
      "metadata": {},
      "source": [
        "# cropland 1999-2003\n",
        "path_cropland_2003 = \"../../07_data_prepared/cropland/LAEA_borneo_cropland_2003.tif\"\n",
        "\n",
        "for path in top_crops_2000:\n",
        "    output_path = path.replace('07_data_prepared/crop_type/crops_2000/LAEA', '08_data_processed/cropland/2000')\n",
        "    resample_and_process(path, path_cropland_2003, output_path)\n",
        "    convert_to_float32(output_path, output_path, multiply_factor = 10000)\n",
        "\n",
        "path_cropland_2007 = \"../../07_data_prepared/cropland/LAEA_borneo_cropland_2007.tif\"\n",
        "for path in top_crops_2005:\n",
        "    output_path = path.replace('07_data_prepared/crop_type/crops_2005/LAEA', '08_data_processed/cropland/2005')\n",
        "    resample_and_process(path, path_cropland_2007, output_path)\n",
        "    convert_to_float32(output_path, output_path, multiply_factor = 10000)\n",
        "\n",
        "path_cropland_2011 = \"../../07_data_prepared/cropland/LAEA_borneo_cropland_2011.tif\"\n",
        "for path in top_crops_2010:\n",
        "    output_path = path.replace('07_data_prepared/crop_type/crops_2010/LAEA', '08_data_processed/cropland/2010')\n",
        "    resample_and_process(path, path_cropland_2011, output_path)\n",
        "    convert_to_float32(output_path, output_path, multiply_factor = 10000)"
      ],
      "id": "34a9da65",
      "execution_count": null,
      "outputs": []
    },
    {
      "cell_type": "code",
      "metadata": {},
      "source": [
        "years = ['2000', '2005', '2010']\n",
        "\n",
        "for year in years:\n",
        "    folder_path = f'../../08_data_processed/cropland/{year}'  # replace with your folder path\n",
        "    globals()[f'tif_files_{year}'] = [os.path.join(folder_path, f) for f in os.listdir(folder_path) if os.path.isfile(os.path.join(folder_path, f)) and f.endswith('.tif')]\n",
        "\n",
        "\n",
        "\n",
        "ref_tif = '../../07_data_prepared/deforestation/LAEA_gfw_2000_2022_borneo.tif'\n",
        "\n",
        "\n",
        "for path in tif_files_2000:\n",
        "    input_tif = path\n",
        "    output_tif = path.replace('.tif', '_snap_gfw.tif')\n",
        "    resample_different_extent(input_tif, ref_tif, output_tif)\n",
        "\n",
        "for path in tif_files_2005:\n",
        "    input_tif = path\n",
        "    output_tif = path.replace('.tif', '_snap_gfw.tif')\n",
        "    resample_different_extent(input_tif, ref_tif, output_tif)\n",
        "\n",
        "for path in tif_files_2010:\n",
        "    input_tif = path\n",
        "    output_tif = path.replace('.tif', '_snap_gfw.tif')\n",
        "    resample_different_extent(input_tif, ref_tif, output_tif)"
      ],
      "id": "58e02656",
      "execution_count": null,
      "outputs": []
    },
    {
      "cell_type": "code",
      "metadata": {},
      "source": [
        "import rasterio\n",
        "import numpy as np\n",
        "\n",
        "\n",
        "def mask_with_multiple(mask_files, input_tif, output_tif):\n",
        "    # Open the input GeoTIFF file\n",
        "    with rasterio.open(input_tif) as src:\n",
        "        # Read the data into a numpy array\n",
        "        input_data = src.read(1)\n",
        "\n",
        "        # Create an array for the mask data\n",
        "        mask_data = np.zeros(input_data.shape, dtype=bool)\n",
        "\n",
        "        # Process each mask GeoTIFF file\n",
        "        for mask_file in mask_files:\n",
        "            with rasterio.open(mask_file) as mask_src:\n",
        "                # Read the mask data into a numpy array\n",
        "                mask_data |= (mask_src.read(1) == 1)\n",
        "\n",
        "        # Define the metadata for the output GeoTIFF file\n",
        "        out_meta = src.meta.copy()\n",
        "        out_meta.update({\n",
        "            'dtype': 'uint16',\n",
        "            'compress': 'lzw',\n",
        "            'nodata': 0,\n",
        "        })\n",
        "\n",
        "        # Write the output data to the output GeoTIFF file\n",
        "        with rasterio.open(output_tif, 'w', **out_meta) as dest:\n",
        "            dest.write((input_data * mask_data).astype(rasterio.uint16), 1)\n"
      ],
      "id": "3ca7c3be",
      "execution_count": null,
      "outputs": []
    },
    {
      "cell_type": "code",
      "metadata": {},
      "source": [
        "mask_tifs = ['/Users/robinpfaff/Library/CloudStorage/OneDrive-ZHAW/6_Semester/BA/07_data_prepared/cropland/LAEA_borneo_cropland_2003.tif',\n",
        "'/Users/robinpfaff/Library/CloudStorage/OneDrive-ZHAW/6_Semester/BA/07_data_prepared/cropland/LAEA_borneo_cropland_2007.tif',\n",
        "'/Users/robinpfaff/Library/CloudStorage/OneDrive-ZHAW/6_Semester/BA/07_data_prepared/cropland/LAEA_borneo_cropland_2011.tif',\n",
        "'/Users/robinpfaff/Library/CloudStorage/OneDrive-ZHAW/6_Semester/BA/07_data_prepared/cropland/LAEA_borneo_cropland_2015.tif']\n",
        "\n",
        "input_tif = '/Users/robinpfaff/Library/CloudStorage/OneDrive-ZHAW/6_Semester/BA/07_data_prepared/oil_palm/LAEA_snap_gfw_detection_year_2000_2017.tif'\n",
        "\n",
        "output_tif = '../../08_data_processed/cropland/test.tif'\n",
        "\n",
        "mask_with_multiple(mask_tifs, input_tif, output_tif)"
      ],
      "id": "27852286",
      "execution_count": null,
      "outputs": []
    },
    {
      "cell_type": "code",
      "metadata": {},
      "source": [
        "## Set variables for the title and paths\n",
        "title = 'Oil palm on cropland'\n",
        "input_tif = '../../08_data_processed/cropland/test.tif'\n",
        "output_csv = 'results/tables/oil_palm_croplands.csv'\n",
        "output_png = 'results/plots/oil_palm_croplands.png'\n",
        "\n",
        "# Call the function with your variables\n",
        "process_raster_to_csv_and_plot(title, input_tif, output_csv, output_png, show_sum = True)\n"
      ],
      "id": "7d26ed8b",
      "execution_count": null,
      "outputs": []
    },
    {
      "cell_type": "code",
      "metadata": {},
      "source": [
        "input_tif = '../../07_data_prepared/oil_palm/LAEA_snap_gfw_detection_year_2000_2017.tif'\n",
        "mask_tif = '../../08_data_processed/cropland/cropland_03_07_11_15.tif'\n",
        "output_tif = '../../08_data_processed/cropland/test.tif'\n",
        "\n",
        "mask_tif_select_value(input_tif, mask_tif, output_tif, mask_values= [1])"
      ],
      "id": "9f43252c",
      "execution_count": null,
      "outputs": []
    },
    {
      "cell_type": "code",
      "metadata": {},
      "source": [
        "tif_files = ['/Users/robinpfaff/Library/CloudStorage/OneDrive-ZHAW/6_Semester/BA/07_data_prepared/cropland/LAEA_borneo_cropland_2003.tif',\n",
        "'/Users/robinpfaff/Library/CloudStorage/OneDrive-ZHAW/6_Semester/BA/07_data_prepared/cropland/LAEA_borneo_cropland_2007.tif',\n",
        "'/Users/robinpfaff/Library/CloudStorage/OneDrive-ZHAW/6_Semester/BA/07_data_prepared/cropland/LAEA_borneo_cropland_2011.tif',\n",
        "'/Users/robinpfaff/Library/CloudStorage/OneDrive-ZHAW/6_Semester/BA/07_data_prepared/cropland/LAEA_borneo_cropland_2015.tif']\n",
        "\n",
        "output_file = '../../08_data_processed/cropland/cropland_03_07_11_15.tif'\n",
        "\n",
        "merge_tif_files(tif_files, output_file)"
      ],
      "id": "c6592571",
      "execution_count": null,
      "outputs": []
    },
    {
      "cell_type": "code",
      "metadata": {},
      "source": [
        "import rasterio\n",
        "import numpy as np\n",
        "import pandas as pd\n",
        "import matplotlib.pyplot as plt\n",
        "\n",
        "def process_rasters_to_csv_and_plot(title, input_tifs, output_csv, output_png):\n",
        "    data = {}\n",
        "    for input_tif in input_tifs:\n",
        "        with rasterio.open(input_tif) as src:\n",
        "            spatial_resolution = src.res[0]\n",
        "            conversion_factor = (spatial_resolution ** 2) / 10000\n",
        "\n",
        "            band1 = src.read(1)\n",
        "            counts = np.count_nonzero(band1 == 1)\n",
        "\n",
        "            data[input_tif] = counts * conversion_factor\n",
        "\n",
        "    df = pd.DataFrame(list(data.items()), columns=['File', 'Area (ha)'])\n",
        "    df.to_csv(output_csv, index=False)\n",
        "\n",
        "    plt.style.use('bmh')\n",
        "    df = pd.read_csv(output_csv)\n",
        "\n",
        "    ax = df.plot(x='File', y='Area (ha)', kind='bar', title=title)\n",
        "    \n",
        "    # Add labels to the bars\n",
        "    for i, v in enumerate(df['Area (ha)']):\n",
        "        ax.text(i, v + 0.01, str(round(v, 2)), ha='center', rotation=90)\n",
        "\n",
        "\n",
        "    ax.spines['bottom'].set_visible(True)\n",
        "    ax.xaxis.grid(False)\n",
        "    ax.yaxis.grid(True)\n",
        "\n",
        "    y_max = df['Area (ha)'].max()\n",
        "    ax.set_ylim(0, y_max * 1.15)\n",
        "\n",
        "    plt.savefig(output_png, bbox_inches='tight')\n"
      ],
      "id": "c52d3e5c",
      "execution_count": null,
      "outputs": []
    },
    {
      "cell_type": "code",
      "metadata": {},
      "source": [
        "input_tifs = ['/Users/robinpfaff/Library/CloudStorage/OneDrive-ZHAW/6_Semester/BA/07_data_prepared/cropland/LAEA_borneo_cropland_2003.tif',\n",
        "'/Users/robinpfaff/Library/CloudStorage/OneDrive-ZHAW/6_Semester/BA/07_data_prepared/cropland/LAEA_borneo_cropland_2007.tif',\n",
        "'/Users/robinpfaff/Library/CloudStorage/OneDrive-ZHAW/6_Semester/BA/07_data_prepared/cropland/LAEA_borneo_cropland_2011.tif',\n",
        "'/Users/robinpfaff/Library/CloudStorage/OneDrive-ZHAW/6_Semester/BA/07_data_prepared/cropland/LAEA_borneo_cropland_2015.tif',\n",
        "'/Users/robinpfaff/Library/CloudStorage/OneDrive-ZHAW/6_Semester/BA/07_data_prepared/cropland/LAEA_borneo_cropland_2019.tif']\n",
        "\n",
        "output_csv = 'results/tables/croplands.csv'\n",
        "output_png = 'results/plots/croplands.png'\n",
        "title = 'croplland extent'\n",
        "process_multiple_rasters_to_csv_and_plot(title, input_tifs, output_csv, output_png)"
      ],
      "id": "1fdf94ee",
      "execution_count": null,
      "outputs": []
    },
    {
      "cell_type": "markdown",
      "metadata": {},
      "source": [
        "# 4 build up area\n",
        "\n",
        "## 4.0 preparations\n",
        "\n",
        "### 4.0.1.1 buffer total build up area\n"
      ],
      "id": "6abd0948"
    },
    {
      "cell_type": "code",
      "metadata": {},
      "source": [
        "input_tif = '../../07_data_prepared/infrastructure/LAEA_build_up_area.tif'\n",
        "output_tif = '../../07_data_prepared/infrastructure/LAEA_buffer_bufferdistance_build_up_area.tif'\n",
        "buffer_distances = [100,200,500,1000,2000]\n",
        "\n",
        "for buffer_distance in buffer_distances:\n",
        "    buffer_tif(input_tif, buffer_distance, output_tif.replace(\"bufferdistance\", str(buffer_distance)))"
      ],
      "id": "a4e7ff5b",
      "execution_count": null,
      "outputs": []
    },
    {
      "cell_type": "markdown",
      "metadata": {},
      "source": [
        "#  4.0.1.2 retrieve areas of buffer\n"
      ],
      "id": "41387abd"
    },
    {
      "cell_type": "code",
      "metadata": {},
      "source": [
        "buffer_distances = [100, 200, 500, 1000, 2000]\n",
        "\n",
        "shapefile = \"../../07_data_prepared/boundary/borneo_boundary_LAEA_Borneo.shp\"\n",
        "\n",
        "# Initialize an empty list to store the total buffer areas\n",
        "buffer_areas_total_built_up = []\n",
        "\n",
        "for buffer_distance in buffer_distances:\n",
        "    tif_basic_name = '../../07_data_prepared/infrastructure/LAEA_buffer_bufferdistance_build_up_area.tif'\n",
        "\n",
        "    input_tif = tif_basic_name.replace(\"bufferdistance\", str(buffer_distance))\n",
        "    print(input_tif)\n",
        "\n",
        "    output_tif = input_tif.replace('LAEA_', 'LAEA_mask_')\n",
        "    mask_tif_with_shapefile(input_tif, shapefile, output_tif, nodata_value=None)\n",
        "    print(output_tif)\n",
        "    # Use the output path as input in the get_tif_area function\n",
        "    area = get_tif_area(output_tif)\n",
        "    \n",
        "    # Append the returned value to the buffer_areas_total list\n",
        "    buffer_areas_total_built_up.append(area)\n",
        "\n",
        "print(buffer_areas_total)\n",
        "\n",
        "\n",
        "# Create a DataFrame\n",
        "df = pd.DataFrame(buffer_areas_total_built_up, columns=['buffer_areas_total_built_up'])\n",
        "\n",
        "# Export to CSV\n",
        "df.to_csv('results/tables/buffer_areas_total_built_up.csv', index=False)"
      ],
      "id": "57dc841b",
      "execution_count": null,
      "outputs": []
    },
    {
      "cell_type": "markdown",
      "metadata": {},
      "source": [
        "### 4.0.2 buffer year 2000 build up area\n",
        "\n",
        "#### 4.0.2.1 reclassify to exclusiveley year 2000\n"
      ],
      "id": "0ff94a1b"
    },
    {
      "cell_type": "code",
      "metadata": {},
      "source": [
        "input_tif = '../../07_data_prepared/infrastructure/LAEA_build_up_area.tif'\n",
        "output_tif ='../../07_data_prepared/infrastructure/LAEA_build_up_area_2000.tif'\n",
        "\n",
        "reclassify_values = {0: [1]}\n",
        "\n",
        "reclassify(input_tif, output_tif, reclassify_values)"
      ],
      "id": "f18f6efe",
      "execution_count": null,
      "outputs": []
    },
    {
      "cell_type": "markdown",
      "metadata": {},
      "source": [
        "#### 4.0.2.2 buffer\n"
      ],
      "id": "3c20cb4f"
    },
    {
      "cell_type": "code",
      "metadata": {},
      "source": [
        "input_tif = '../../07_data_prepared/infrastructure/LAEA_build_up_area_2000.tif'\n",
        "output_tif = '../../07_data_prepared/infrastructure/LAEA_buffer_bufferdistance_build_up_area_2000.tif'\n",
        "buffer_distances = [200, 500, 1000, 2000]\n",
        "\n",
        "for buffer_distance in buffer_distances:\n",
        "    buffer_tif(input_tif, buffer_distance, output_tif.replace(\"bufferdistance\", str(buffer_distance)))"
      ],
      "id": "43a32c34",
      "execution_count": null,
      "outputs": []
    },
    {
      "cell_type": "code",
      "metadata": {},
      "source": [
        "buffer_distances = [100, 200, 500, 1000, 2000]\n",
        "\n",
        "shapefile = \"../../07_data_prepared/boundary/borneo_boundary_LAEA_Borneo.shp\"\n",
        "\n",
        "# Initialize an empty list to store the total buffer areas\n",
        "buffer_areas_built_up_2000 = []\n",
        "\n",
        "for buffer_distance in buffer_distances:\n",
        "    tif_basic_name = '../../07_data_prepared/infrastructure/LAEA_buffer_bufferdistance_build_up_area_2000.tif'\n",
        "\n",
        "    input_tif = tif_basic_name.replace(\"bufferdistance\", str(buffer_distance))\n",
        "    print(input_tif)\n",
        "\n",
        "    output_tif = input_tif.replace('LAEA_', 'LAEA_mask_')\n",
        "    mask_tif_with_shapefile(input_tif, shapefile, output_tif, nodata_value=None)\n",
        "    print(output_tif)\n",
        "    # Use the output path as input in the get_tif_area function\n",
        "    area = get_tif_area(output_tif)\n",
        "    \n",
        "    # Append the returned value to the buffer_areas_total list\n",
        "    buffer_areas_built_up_2000.append(area)\n",
        "\n",
        "\n",
        "# Create a DataFrame\n",
        "df = pd.DataFrame(buffer_areas_built_up_2000, columns=['buffer_areas_built_up_2000'])\n",
        "\n",
        "# Export to CSV\n",
        "df.to_csv('results/tables/buffer_areas_built_up_2000.csv', index=False)"
      ],
      "id": "dda90564",
      "execution_count": null,
      "outputs": []
    },
    {
      "cell_type": "markdown",
      "metadata": {},
      "source": [
        "### 4.0.3 buffer new build up area\n",
        "#### 4.0.3.1 reclassify to exclusiveley new build up area 2000-2020\n"
      ],
      "id": "9450b0e2"
    },
    {
      "cell_type": "code",
      "metadata": {},
      "source": [
        "input_tif = '../../07_data_prepared/infrastructure/LAEA_build_up_area.tif'\n",
        "output_tif ='../../07_data_prepared/infrastructure/LAEA_new_build_up_area.tif'\n",
        "\n",
        "reclassify_values = {0: [2]}\n",
        "\n",
        "reclassify(input_tif, output_tif, reclassify_values)"
      ],
      "id": "d4f3a4d3",
      "execution_count": null,
      "outputs": []
    },
    {
      "cell_type": "markdown",
      "metadata": {},
      "source": [
        "#### 4.0.3.2 buffer\n"
      ],
      "id": "57c61460"
    },
    {
      "cell_type": "code",
      "metadata": {},
      "source": [
        "input_tif = '../../07_data_prepared/infrastructure/LAEA_new_build_up_area.tif'\n",
        "output_tif = '../../07_data_prepared/infrastructure/LAEA_buffer_bufferdistance_new_build_up_area.tif'\n",
        "buffer_distances = [100,200,500,1000,2000]\n",
        "\n",
        "for buffer_distance in buffer_distances:\n",
        "    buffer_tif(input_tif, buffer_distance, output_tif.replace(\"bufferdistance\", str(buffer_distance)))"
      ],
      "id": "66fa704d",
      "execution_count": null,
      "outputs": []
    },
    {
      "cell_type": "code",
      "metadata": {},
      "source": [
        "buffer_distances = [100, 200, 500, 1000, 2000]\n",
        "\n",
        "shapefile = \"../../07_data_prepared/boundary/borneo_boundary_LAEA_Borneo.shp\"\n",
        "\n",
        "# Initialize an empty list to store the total buffer areas\n",
        "buffer_areas_new_built_up = []\n",
        "\n",
        "for buffer_distance in buffer_distances:\n",
        "    tif_basic_name = '../../07_data_prepared/infrastructure/LAEA_buffer_bufferdistance_new_build_up_area.tif'\n",
        "\n",
        "    input_tif = tif_basic_name.replace(\"bufferdistance\", str(buffer_distance))\n",
        "    print(input_tif)\n",
        "\n",
        "    output_tif = input_tif.replace('LAEA_', 'LAEA_mask_')\n",
        "    mask_tif_with_shapefile(input_tif, shapefile, output_tif, nodata_value=None)\n",
        "    print(output_tif)\n",
        "    # Use the output path as input in the get_tif_area function\n",
        "    area = get_tif_area(output_tif)\n",
        "    \n",
        "    # Append the returned value to the buffer_areas_total list\n",
        "    buffer_areas_new_built_up.append(area)\n",
        "\n",
        "\n",
        "# Create a DataFrame\n",
        "df = pd.DataFrame(buffer_areas_new_built_up, columns=['buffer_areas_new_built_up'])\n",
        "\n",
        "# Export to CSV\n",
        "df.to_csv('results/tables/buffer_areas_new_built_up.csv', index=False)\n"
      ],
      "id": "480a29af",
      "execution_count": null,
      "outputs": []
    },
    {
      "cell_type": "markdown",
      "metadata": {},
      "source": [
        "### 4.0.4 limit gfc data to the span of 2000 to 2020\n"
      ],
      "id": "961086cb"
    },
    {
      "cell_type": "code",
      "metadata": {},
      "source": [
        "reclassify_values = {0: [21]}\n",
        "\n",
        "input_file = '../../07_data_prepared/deforestation/LAEA_gfw_2000_2022_borneo.tif'\n",
        "output_file = '../../07_data_prepared/deforestation/LAEA_gfw_2001_2020_borneo.tif'\n",
        "\n",
        "reclassify(input_file, output_file, reclassify_values)"
      ],
      "id": "cbf63acf",
      "execution_count": null,
      "outputs": []
    },
    {
      "cell_type": "markdown",
      "metadata": {},
      "source": [
        "## 4.1 How Much new build up area existed in 2000 and how much was build in the last 20 years?\n",
        "\n",
        "### 4.1.1 Reclassify to only 0 values\n"
      ],
      "id": "f2f1a4e1"
    },
    {
      "cell_type": "code",
      "metadata": {},
      "source": [
        "reclassify_values = {0: [255]}\n",
        "\n",
        "input_file = '../../07_data_prepared/infrastructure/LAEA_build_up_area.tif'\n",
        "output_file = '../../07_data_prepared/infrastructure/LAEA_build_up_area.tif'\n",
        "\n",
        "reclassify(input_file, output_file, reclassify_values)"
      ],
      "id": "2dd9807a",
      "execution_count": null,
      "outputs": []
    },
    {
      "cell_type": "markdown",
      "metadata": {},
      "source": [
        "### 4.1.1 calculate\n"
      ],
      "id": "0683408b"
    },
    {
      "cell_type": "code",
      "metadata": {},
      "source": [
        "## Set variables for the title and paths\n",
        "title = 'Borneo Build up areas situation 2000 and added from 2000-2020'\n",
        "input_tif = '../../07_data_prepared/infrastructure/LAEA_build_up_area.tif\n",
        "output_csv = 'results/tables/LAEA_build_up_area.csv'\n",
        "output_png = 'results/plots/fLAEA_build_up_area.png'\n",
        "\n",
        "# Call the function with your variables\n",
        "process_raster_to_csv_and_plot(title, input_tif, output_csv, output_png,  show_sum = True)\n",
        "## 2 is in year 2000 and 1 is additional build up area"
      ],
      "id": "d9b5ed9f",
      "execution_count": null,
      "outputs": []
    },
    {
      "cell_type": "markdown",
      "metadata": {},
      "source": [
        "## 4.2a How much forest loss areas occured on build up area (yearly)?\n",
        "\n",
        "### 4.2.1 mask forest loss with new build up areas\n"
      ],
      "id": "8b9b64be"
    },
    {
      "cell_type": "code",
      "metadata": {},
      "source": [
        "input_tif = '../../07_data_prepared/deforestation/LAEA_gfw_2001_2020_borneo.tif'\n",
        "mask_tif = '../../07_data_prepared/infrastructure/LAEA_build_up_area.tif'\n",
        "output_tif = '../../08_data_processed/combined/deforestation_new_build_up_area.tif'\n",
        "\n",
        "mask_tif_select_value(input_tif, mask_tif, output_tif, mask_values= [1])"
      ],
      "id": "28a04e67",
      "execution_count": null,
      "outputs": []
    },
    {
      "cell_type": "markdown",
      "metadata": {},
      "source": [
        "### 4.2.1 mask forest loss with build up areas 2000\n"
      ],
      "id": "4d36ea9b"
    },
    {
      "cell_type": "code",
      "metadata": {},
      "source": [
        "input_tif = '../../07_data_prepared/deforestation/LAEA_gfw_2001_2020_borneo.tif'\n",
        "mask_tif = '../../07_data_prepared/infrastructure/LAEA_build_up_area.tif'\n",
        "output_tif = '../../08_data_processed/combined/deforestation_build_up_area_2000.tif'\n",
        "\n",
        "mask_tif_select_value(input_tif, mask_tif, output_tif, mask_values= [2])"
      ],
      "id": "8867daf5",
      "execution_count": null,
      "outputs": []
    },
    {
      "cell_type": "markdown",
      "metadata": {},
      "source": [
        "### 4.2.2 calculation new built up\n"
      ],
      "id": "e99ff42d"
    },
    {
      "cell_type": "code",
      "metadata": {},
      "source": [
        "## Set variables for the title and paths\n",
        "title = 'Borneo Forest Loss to new build up areas 2001 - 2021'\n",
        "input_tif = '../../08_data_processed/combined/deforestation_new_build_up_area.tif'\n",
        "output_csv = 'results/tables/forest_loss_new_build_up_areas_yearly.csv'\n",
        "output_png = 'results/plots/forest_loss_new_build_up_areas_yearly.png'\n",
        "\n",
        "# Call the function with youvariables\n",
        "process_raster_to_csv_and_plot(title, input_tif, output_csv, output_png) "
      ],
      "id": "05b49b51",
      "execution_count": null,
      "outputs": []
    },
    {
      "cell_type": "markdown",
      "metadata": {},
      "source": [
        "### 4.2.2 calculation built up 2000\n"
      ],
      "id": "5dc794ab"
    },
    {
      "cell_type": "code",
      "metadata": {},
      "source": [
        "## Set variables for the title and paths\n",
        "title = 'Borneo Forest Loss on built up areas 2000'\n",
        "input_tif = '../../08_data_processed/combined/deforestation_build_up_area_2000.tif'\n",
        "output_csv = 'results/tables/forest_loss_build_up_areas_2000_yearly.csv'\n",
        "output_png = 'results/plots/forest_loss_build_up_areas_2000_yearly.png'\n",
        "\n",
        "# Call the function with youvariables\n",
        "process_raster_to_csv_and_plot(title, input_tif, output_csv, output_png)"
      ],
      "id": "67309954",
      "execution_count": null,
      "outputs": []
    },
    {
      "cell_type": "markdown",
      "metadata": {},
      "source": [
        "## 4.2b How much primiary forest loss areas occured on build up area (yearly)?\n",
        "\n",
        "### 4.2.1 mask forest loss with new build up areas\n"
      ],
      "id": "1b2716df"
    },
    {
      "cell_type": "code",
      "metadata": {},
      "source": [
        "input_tif = '../../08_data_processed/deforestation/deforestation_primary_forest.tif'\n",
        "mask_tif = '../../07_data_prepared/infrastructure/LAEA_build_up_area.tif'\n",
        "output_tif = '../../08_data_processed/combined/deforestation_primary_new_build_up_area.tif'\n",
        "\n",
        "mask_tif_select_value(input_tif, mask_tif, output_tif, mask_values= [1])"
      ],
      "id": "abc14db8",
      "execution_count": null,
      "outputs": []
    },
    {
      "cell_type": "code",
      "metadata": {},
      "source": [
        "input_tif = '../../08_data_processed/deforestation/deforestation_primary_forest.tif'\n",
        "mask_tif = '../../07_data_prepared/infrastructure/LAEA_build_up_area.tif'\n",
        "output_tif = '../../08_data_processed/combined/deforestation_primary_build_up_area_2000.tif'\n",
        "\n",
        "mask_tif_select_value(input_tif, mask_tif, output_tif, mask_values= [2])"
      ],
      "id": "c38e4939",
      "execution_count": null,
      "outputs": []
    },
    {
      "cell_type": "markdown",
      "metadata": {},
      "source": [
        "### 4.2.2 calculation\n"
      ],
      "id": "9314f9da"
    },
    {
      "cell_type": "code",
      "metadata": {},
      "source": [
        "## Set variables for the title and paths\n",
        "title = 'Borneo Primary Forest Loss to new build up areas 2001 - 2021'\n",
        "input_tif = '../../08_data_processed/combined/deforestation_primary_new_build_up_area.tif'\n",
        "output_csv = 'results/tables/primary_forest_loss_new_build_up_areas_yearly.csv'\n",
        "output_png = 'results/plots/primary_forest_loss_new_build_up_areas_yearly.png'\n",
        "\n",
        "# Call the function with your variables\n",
        "process_raster_to_csv_and_plot(title, input_tif, output_csv, output_png)"
      ],
      "id": "8ad4e42d",
      "execution_count": null,
      "outputs": []
    },
    {
      "cell_type": "code",
      "metadata": {},
      "source": [
        "## Set variables for the title and paths\n",
        "title = 'Borneo Primary Forest Loss to build up areas 2000'\n",
        "input_tif = '../../08_data_processed/combined/deforestation_primary_build_up_area_2000.tif'\n",
        "output_csv = 'results/tables/primary_forest_loss_build_up_areas_2000_yearly.csv'\n",
        "output_png = 'results/plots/primary_forest_loss_new_build_up_areas_2000_yearly.png'\n",
        "\n",
        "# Call the function with your variables\n",
        "process_raster_to_csv_and_plot(title, input_tif, output_csv, output_png)"
      ],
      "id": "34211e87",
      "execution_count": null,
      "outputs": []
    },
    {
      "cell_type": "markdown",
      "metadata": {},
      "source": [
        "## 4.3a How much new build up area occured in non-forest covered area (2020 compared to 2000)?\n",
        "\n",
        "### 4.3.1 Mask\n"
      ],
      "id": "7ed4f929"
    },
    {
      "cell_type": "code",
      "metadata": {},
      "source": [
        "input_tif = '../../07_data_prepared/infrastructure/LAEA_build_up_area.tif'\n",
        "mask_tif = '../../07_data_prepared/deforestation/LAEA_primary_forest_2001.tif'\n",
        "output_tif = '../../08_data_processed/combined/build_up_area_non_forest.tif'\n",
        "\n",
        "mask_values = [1]\n",
        "\n",
        "mask_tif_select_value(input_tif, mask_tif, output_tif, mask_values, inside=True)"
      ],
      "id": "aaf0ffc8",
      "execution_count": null,
      "outputs": []
    },
    {
      "cell_type": "markdown",
      "metadata": {},
      "source": [
        "### 4.3.2 Reclassify to only 0 values\n"
      ],
      "id": "51206e83"
    },
    {
      "cell_type": "code",
      "metadata": {},
      "source": [
        "reclassify_values = {0: [255]}\n",
        "\n",
        "input_file = '../../08_data_processed/combined/build_up_area_non_forest.tif'\n",
        "output_file = '../../08_data_processed/combined/build_up_area_non_forest.tif'\n",
        "\n",
        "reclassify(input_file, output_file, reclassify_values)"
      ],
      "id": "266c8f2c",
      "execution_count": null,
      "outputs": []
    },
    {
      "cell_type": "markdown",
      "metadata": {},
      "source": [
        "### 4.3.2 calculate\n"
      ],
      "id": "e39ed51c"
    },
    {
      "cell_type": "code",
      "metadata": {},
      "source": [
        "## Set variables for the title and paths\n",
        "title = 'Borneo new build up areas on non forest areas from 2000-2020'\n",
        "input_tif = '../../08_data_processed/combined/build_up_area_non_forest.tif'\n",
        "output_csv = 'results/tables/build_up_area_non_forest.csv'\n",
        "output_png = 'results/plots/build_up_area_non_forest.png'\n",
        "\n",
        "# Call the function with your variables\n",
        "process_raster_to_csv_and_plot(title, input_tif, output_csv, output_png, show_sum = True)\n",
        "## 2 is in year 2000 and 1 is additional build up area"
      ],
      "id": "14670d02",
      "execution_count": null,
      "outputs": []
    },
    {
      "cell_type": "markdown",
      "metadata": {},
      "source": [
        "## 4.3b How much new build up area occured in primary forest covered area (2020 compared to 2000)?\n",
        "\n",
        "### 4.3.1 Mask\n"
      ],
      "id": "6335417a"
    },
    {
      "cell_type": "code",
      "metadata": {},
      "source": [
        "input_tif = '../../07_data_prepared/infrastructure/LAEA_build_up_area.tif'\n",
        "mask_tif = '../../07_data_prepared/deforestation/LAEA_forest_cover_year_2000_and_primary.tif'\n",
        "output_tif = '../../08_data_processed/combined/build_up_area_non_forest.tif'\n",
        "\n",
        "mask_values = [1]\n",
        "\n",
        "mask_tif_select_value(input_tif, mask_tif, output_tif, mask_values, inside=True)"
      ],
      "id": "a7f12ccb",
      "execution_count": null,
      "outputs": []
    },
    {
      "cell_type": "markdown",
      "metadata": {},
      "source": [
        "### 4.3.2 Reclassify to only 0 values\n"
      ],
      "id": "ec0a3a3a"
    },
    {
      "cell_type": "code",
      "metadata": {},
      "source": [
        "reclassify_values = {0: [255]}\n",
        "\n",
        "input_file = '../../08_data_processed/combined/build_up_area_non_forest.tif'\n",
        "output_file = '../../08_data_processed/combined/build_up_area_non_forest.tif'\n",
        "\n",
        "reclassify(input_file, output_file, reclassify_values)"
      ],
      "id": "e5b3dd49",
      "execution_count": null,
      "outputs": []
    },
    {
      "cell_type": "markdown",
      "metadata": {},
      "source": [
        "### 4.3.2 calculate\n"
      ],
      "id": "42ee88fe"
    },
    {
      "cell_type": "code",
      "metadata": {},
      "source": [
        "## Set variables for the title and paths\n",
        "title = 'Borneo new build up areas on non forest areas from 2000-2020'\n",
        "input_tif = '../../08_data_processed/combined/build_up_area_non_forest.tif'\n",
        "output_csv = 'results/tables/build_up_area_non_forest.csv'\n",
        "output_png = 'results/plots/build_up_area_non_forest.png'\n",
        "\n",
        "# Call the function with your variables\n",
        "process_raster_to_csv_and_plot(title, input_tif, output_csv, output_png, show_sum = True)\n",
        "## 2 is in year 2000 and 1 is additional build up area"
      ],
      "id": "613075d1",
      "execution_count": null,
      "outputs": []
    },
    {
      "cell_type": "markdown",
      "metadata": {},
      "source": [
        "## 4.4 How much new build up areas was created on forest-fire loss areas (2020 compared to 2000)?\n",
        "\n",
        "### 4.4.1 mask forest fire loss with new build up areas\n"
      ],
      "id": "8aa1412b"
    },
    {
      "cell_type": "code",
      "metadata": {},
      "source": [
        "input_tif = '../../07_data_prepared/deforestation/LAEA_forest_fires.tif'\n",
        "mask_tif = '../../07_data_prepared/infrastructure/LAEA_build_up_area.tif'\n",
        "output_tif = '../../08_data_processed/combined/forest_fires_new_build_up_area.tif'\n",
        "\n",
        "mask_tif_select_value(input_tif, mask_tif, output_tif, mask_values= [1])"
      ],
      "id": "87c6e555",
      "execution_count": null,
      "outputs": []
    },
    {
      "cell_type": "markdown",
      "metadata": {},
      "source": [
        "### 4.4.2 Calculation\n"
      ],
      "id": "4aef3bfb"
    },
    {
      "cell_type": "code",
      "metadata": {},
      "source": [
        "## Set variables for the title and paths\n",
        "title = 'Borneo Forest Loss to build up areas by forest fires 2001 - 2021'\n",
        "input_tif = '../../08_data_processed/combined/forest_fires_new_build_up_area.tif'\n",
        "output_csv = 'results/tables/forest_fires_new_build_up_area_yearly.csv'\n",
        "output_png = 'results/plots/forest_fires_new_build_up_area_yearly.png'\n",
        "\n",
        "# Call the function with your variables\n",
        "process_raster_to_csv_and_plot(title, input_tif, output_csv, output_png)"
      ],
      "id": "d90741af",
      "execution_count": null,
      "outputs": []
    },
    {
      "cell_type": "markdown",
      "metadata": {},
      "source": [
        "## 4.5 How much new oil palm plantation area occured within 0.1, 0.2, 0.5, 1, and 2 km of year 2000 build up areas?\n"
      ],
      "id": "e59cc8c1"
    },
    {
      "cell_type": "code",
      "metadata": {},
      "source": [
        "# Define your x and y variables as lists\n",
        "x = ['100', '200', '500', '1000', '2000']\n",
        "y = ['build_up_area_2000', 'new_build_up_area', 'build_up_area']\n",
        "\n",
        "# Initialize empty lists for input, mask, and output paths\n",
        "input_tif_paths = []\n",
        "mask_tif_paths = []\n",
        "output_tif_paths = []\n",
        "\n",
        "# Loop through each combination of x and y\n",
        "for x_value in x:\n",
        "    for y_value in y:\n",
        "        # Replace {x} and {y} in the paths with the actual values\n",
        "        mask_tif_path = f'../../07_data_prepared/infrastructure/LAEA_buffer_{x_value}_{y_value}.tif'\n",
        "        output_tif_path = f'../../08_data_processed/buffer_oilpalm/oil_palm_buffer_{x_value}_{y_value}.tif'\n",
        "\n",
        "        input_tif_paths.append('../../07_data_prepared/oil_palm/LAEA_snap_gfw_detection_year_2001_2017.tif')\n",
        "        mask_tif_paths.append(mask_tif_path)\n",
        "        output_tif_paths.append(output_tif_path)\n",
        "\n",
        "        # Perform the mask_tif_select_value and process_raster_to_csv_and_plot functions here using the paths\n",
        "        mask_tif_select_value('../../07_data_prepared/oil_palm/LAEA_snap_gfw_detection_year_2001_2017.tif', mask_tif_path, output_tif_path, mask_values=[1])\n",
        "        title = f'New oil palm within {x_value}m of {y_value}'\n",
        "        input_tif = output_tif_path\n",
        "        output_csv = f'results/tables/oil_palm_buffer_{x_value}_{y_value}.csv'\n",
        "        output_png = f'results/plots/oil_palm_buffer_{x_value}_{y_value}.png'\n",
        "        process_raster_to_csv_and_plot(title, input_tif, output_csv, output_png)\n"
      ],
      "id": "9662af73",
      "execution_count": null,
      "outputs": []
    },
    {
      "cell_type": "markdown",
      "metadata": {},
      "source": [
        "## 4.6\tHow much forest fire area occured within 0.1, 0.2, 0.5, 1, and 2 km of year 2000, new_build up and total build up areas?\n"
      ],
      "id": "799f03e6"
    },
    {
      "cell_type": "code",
      "metadata": {},
      "source": [
        "# Define your x and y variables as lists\n",
        "x = ['100', '200', '500', '1000', '2000']\n",
        "y = ['build_up_area_2000', 'new_build_up_area', 'build_up_area']\n",
        "\n",
        "# Initialize empty lists for input, mask, and output paths\n",
        "input_tif_paths = []\n",
        "mask_tif_paths = []\n",
        "output_tif_paths = []\n",
        "\n",
        "# Loop through each combination of x and y\n",
        "for x_value in x:\n",
        "    for y_value in y:\n",
        "        # Replace {x} and {y} in the paths with the actual values\n",
        "        mask_tif_path = f'../../07_data_prepared/infrastructure/LAEA_buffer_{x_value}_{y_value}.tif'\n",
        "        output_tif_path = f'../../08_data_processed/buffer_forest_fires/forest_fires_buffer_{x_value}_{y_value}.tif'\n",
        "\n",
        "        input_tif_paths.append('../../07_data_prepared/deforestation/LAEA_forest_fires.tif')\n",
        "        mask_tif_paths.append(mask_tif_path)\n",
        "        output_tif_paths.append(output_tif_path)\n",
        "\n",
        "        # Perform the mask_tif_select_value and process_raster_to_csv_and_plot functions here using the paths\n",
        "        mask_tif_select_value('../../07_data_prepared/deforestation/LAEA_forest_fires.tif', mask_tif_path, output_tif_path, mask_values=[1])\n",
        "        title = f'Forest fires within {x_value}m of {y_value}'\n",
        "        input_tif = output_tif_path\n",
        "        output_csv = f'results/tables/forest_fires_buffer_{x_value}_{y_value}.csv'\n",
        "        output_png = f'results/plots/forest_fires_buffer_{x_value}_{y_value}.png'\n",
        "        process_raster_to_csv_and_plot(title, input_tif, output_csv, output_png)\n"
      ],
      "id": "ae8f6f9b",
      "execution_count": null,
      "outputs": []
    },
    {
      "cell_type": "markdown",
      "metadata": {},
      "source": [
        "## 4.7\tHow much deforestation (excluding forest fires) area occured within 0.1, 0.2, 0.5, 1, and 2 km of year 2000, new_build up and total build up areas?\n"
      ],
      "id": "805233ba"
    },
    {
      "cell_type": "code",
      "metadata": {},
      "source": [
        "# Define your x and y variables as lists\n",
        "x = ['100', '200', '500', '1000', '2000']\n",
        "y = ['build_up_area_2000', 'new_build_up_area', 'build_up_area']\n",
        "\n",
        "# Initialize empty lists for input, mask, and output paths\n",
        "input_tif_paths = []\n",
        "mask_tif_paths = []\n",
        "output_tif_paths = []\n",
        "\n",
        "# Loop through each combination of x and y\n",
        "for x_value in x:\n",
        "    for y_value in y:\n",
        "        # Replace {x} and {y} in the paths with the actual values\n",
        "        mask_tif_path = f'../../07_data_prepared/infrastructure/LAEA_buffer_{x_value}_{y_value}.tif'\n",
        "        output_tif_path = f'../../08_data_processed/buffer_deforestation_no_forest_fires/deforestation_no_forest_fires_buffer_{x_value}_{y_value}.tif'\n",
        "\n",
        "        input_tif_paths.append('../../08_data_processed/combined/deforestation_no_forest_fires.tif')\n",
        "        mask_tif_paths.append(mask_tif_path)\n",
        "        output_tif_paths.append(output_tif_path)\n",
        "\n",
        "        # Perform the mask_tif_select_value and process_raster_to_csv_and_plot functions here using the paths\n",
        "        mask_tif_select_value('../../08_data_processed/combined/deforestation_no_forest_fires.tif', mask_tif_path, output_tif_path, mask_values=[1])\n",
        "        title = f'Deforestation excluding forest fires within {x_value}m of {y_value}'\n",
        "        input_tif = output_tif_path\n",
        "        output_csv = f'results/tables/deforestation_no_forest_fires_buffer{x_value}_{y_value}.csv'\n",
        "        output_png = f'results/plots/deforestation_no_forest_fires_buffer{x_value}_{y_value}.png'\n",
        "        process_raster_to_csv_and_plot(title, input_tif, output_csv, output_png)\n"
      ],
      "id": "804299a6",
      "execution_count": null,
      "outputs": []
    },
    {
      "cell_type": "markdown",
      "metadata": {},
      "source": [
        "# 5 RSPO\n",
        "\n",
        "\n",
        "## 5.1 in RSPO certified concessions\n"
      ],
      "id": "a6d1ce48"
    },
    {
      "cell_type": "code",
      "metadata": {},
      "source": [
        "input_tif = '../../07_data_prepared/oil_palm/LAEA_snap_gfw_detection_year_2000_2017.tif'\n",
        "mask_shp = '../../07_data_prepared/RSPO/LAEA_RSPO_2023.shp'\n",
        "output_tif = '../../08_data_processed/combined/oil_palm_in_RSPO_certified_regions.tif'\n",
        "\n",
        "mask_tif_with_shapefile_select_feature_value(input_tif, mask_shp, output_tif, feature_name=\"RSPOCert\", feature_value=\"Certified\")"
      ],
      "id": "1f4eb9dd",
      "execution_count": null,
      "outputs": []
    },
    {
      "cell_type": "code",
      "metadata": {},
      "source": [
        "## Set variables for the title and paths\n",
        "title = 'Oil palm detection year within RSPO certified concessions'\n",
        "input_tif = '../../08_data_processed/combined/oil_palm_in_RSPO_certified_regions.tif'\n",
        "output_csv = 'results/tables/oil_palm_in_RSPO_certified_regions.csv'\n",
        "output_png = 'results/plots/oil_palm_in_RSPO_certified_regions.png'\n",
        "\n",
        "# Call the function with your variables\n",
        "process_raster_to_csv_and_plot(title, input_tif, output_csv, output_png, show_sum = True)\n",
        "## 2 is in year 2000 and 1 is additional build up area"
      ],
      "id": "a619a5e5",
      "execution_count": null,
      "outputs": []
    },
    {
      "cell_type": "markdown",
      "metadata": {},
      "source": [
        "## 5.2 in RSPO uncertified concessions\n"
      ],
      "id": "a76a8eb9"
    },
    {
      "cell_type": "code",
      "metadata": {},
      "source": [
        "input_tif = '../../07_data_prepared/oil_palm/LAEA_snap_gfw_detection_year_2000_2017.tif'\n",
        "mask_shp = '../../07_data_prepared/RSPO/LAEA_RSPO_2023.shp'\n",
        "output_tif = '../../08_data_processed/combined/oil_palm_in_RSPO_uncertified_regions.tif'\n",
        "\n",
        "mask_tif_with_shapefile_select_feature_value(input_tif, mask_shp, output_tif, feature_name=\"RSPOCert\", feature_value=\"Uncertified\")"
      ],
      "id": "307ccc9f",
      "execution_count": null,
      "outputs": []
    },
    {
      "cell_type": "code",
      "metadata": {},
      "source": [
        "## Set variables for the title and paths\n",
        "title = 'Oil palm detection year within RSPO uncertified concessions'\n",
        "input_tif = '../../08_data_processed/combined/oil_palm_in_RSPO_uncertified_regions.tif'\n",
        "output_csv = 'results/tables/oil_palm_in_RSPO_uncertified_regions.csv'\n",
        "output_png = 'results/plots/oil_palm_in_RSPO_uncertified_regions.png'\n",
        "\n",
        "# Call the function with your variables\n",
        "process_raster_to_csv_and_plot(title, input_tif, output_csv, output_png, show_sum = True)\n",
        "## 2 is in year 2000 and 1 is additional build up area"
      ],
      "id": "9d9d1b80",
      "execution_count": null,
      "outputs": []
    }
  ],
  "metadata": {
    "kernelspec": {
      "name": "python3",
      "language": "python",
      "display_name": "Python 3 (ipykernel)"
    }
  },
  "nbformat": 4,
  "nbformat_minor": 5
}